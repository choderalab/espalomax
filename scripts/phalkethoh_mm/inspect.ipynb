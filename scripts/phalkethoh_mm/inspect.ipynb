{
 "cells": [
  {
   "cell_type": "code",
   "execution_count": 1,
   "id": "868b5010",
   "metadata": {},
   "outputs": [
    {
     "name": "stderr",
     "output_type": "stream",
     "text": [
      "Warning: Unable to load toolkit 'OpenEye Toolkit'. The Open Force Field Toolkit does not require the OpenEye Toolkits, and can use RDKit/AmberTools instead. However, if you have a valid license for the OpenEye Toolkits, consider installing them for faster performance and additional file format support: https://docs.eyesopen.com/toolkits/python/quickstart-python/linuxosx.html OpenEye offers free Toolkit licenses for academics: https://www.eyesopen.com/academic-licensing\n",
      "Warning: Unable to load toolkit 'AmberTools'. \n",
      "/Users/wangy1/miniconda3/envs/espalomax/lib/python3.10/site-packages/haiku/_src/data_structures.py:37: FutureWarning: jax.tree_structure is deprecated, and will be removed in a future release. Use jax.tree_util.tree_structure instead.\n",
      "  PyTreeDef = type(jax.tree_structure(None))\n"
     ]
    }
   ],
   "source": [
    "import random\n",
    "from openff.toolkit.topology import Molecule\n",
    "import h5py\n",
    "import numpy as onp\n",
    "import jax\n",
    "import jax.numpy as jnp\n",
    "import jax_md\n",
    "import espalomax as esp\n",
    "from concurrent import futures"
   ]
  },
  {
   "cell_type": "code",
   "execution_count": 16,
   "id": "41c86646",
   "metadata": {},
   "outputs": [],
   "source": [
    "from run_compile import DataLoader\n",
    "dataloader = DataLoader(path=\"data/\", partition=\"all\")"
   ]
  },
  {
   "cell_type": "code",
   "execution_count": 17,
   "id": "806f510a",
   "metadata": {},
   "outputs": [],
   "source": [
    "model = esp.nn.Parametrization(\n",
    "    representation=esp.nn.GraphAttentionNetwork(128, 6),\n",
    "    janossy_pooling=esp.nn.JanossyPooling(128, 2),\n",
    ")"
   ]
  },
  {
   "cell_type": "code",
   "execution_count": 18,
   "id": "c30188a1",
   "metadata": {},
   "outputs": [],
   "source": [
    "from flax.training.checkpoints import restore_checkpoint\n",
    "state = restore_checkpoint(\"__checkpoint\", target=None)\n",
    "params = state[\"params\"]"
   ]
  },
  {
   "cell_type": "code",
   "execution_count": 19,
   "id": "1cb12f16",
   "metadata": {},
   "outputs": [],
   "source": [
    "g, x, u = next(iter(dataloader))\n",
    "ff_params = model.apply(params, g)\n",
    "u_hat = esp.mm.get_energy(ff_params, x)"
   ]
  },
  {
   "cell_type": "code",
   "execution_count": 22,
   "id": "a73e88b0",
   "metadata": {},
   "outputs": [],
   "source": [
    "jaxmd_params = esp.mm.to_jaxmd_mm_energy_fn_parameters(ff_params)"
   ]
  },
  {
   "cell_type": "code",
   "execution_count": 23,
   "id": "25e3cbf2",
   "metadata": {},
   "outputs": [
    {
     "data": {
      "text/plain": [
       "MMEnergyFnParameters(harmonic_bond_parameters=HarmonicBondParameters(particles=DeviceArray([[0, 1],\n",
       "             [0, 2],\n",
       "             [0, 3],\n",
       "             [0, 4]], dtype=int32), epsilon=DeviceArray([0.01880366, 0.01880366, 0.01880366, 0.01880366], dtype=float32), length=DeviceArray([0.5550566, 0.5550566, 0.5550566, 0.5550566], dtype=float32)), harmonic_angle_parameters=HarmonicAngleParameters(particles=DeviceArray([[1, 0, 2],\n",
       "             [1, 0, 3],\n",
       "             [1, 0, 4],\n",
       "             [2, 0, 3],\n",
       "             [2, 0, 4],\n",
       "             [3, 0, 4]], dtype=int32), epsilon=DeviceArray([0.05592059, 0.05592059, 0.05592059, 0.05592059, 0.05592053,\n",
       "             0.05592053], dtype=float32), length=DeviceArray([1.079294 , 1.079294 , 1.079294 , 1.079294 , 1.0792929,\n",
       "             1.0792929], dtype=float32)), periodic_torsion_parameters=PeriodicTorsionParameters(particles=DeviceArray([], dtype=int32), amplitude=DeviceArray([], dtype=float32), periodicity=DeviceArray([], dtype=int32), phase=DeviceArray([], dtype=float32)), nonbonded_exception_parameters=None, nonbonded_parameters=None)"
      ]
     },
     "execution_count": 23,
     "metadata": {},
     "output_type": "execute_result"
    }
   ],
   "source": [
    "jaxmd_params"
   ]
  },
  {
   "cell_type": "code",
   "execution_count": 27,
   "id": "ce1dadf6",
   "metadata": {},
   "outputs": [
    {
     "data": {
      "text/plain": [
       "MMEnergyFnParameters(harmonic_bond_parameters=HarmonicBondParameters(particles=DeviceArray([[0, 1],\n",
       "             [0, 2],\n",
       "             [0, 3],\n",
       "             [0, 4]], dtype=int32), epsilon=DeviceArray([309655.08432241, 309655.08432241, 309655.08432241,\n",
       "             309655.08432241], dtype=float64), length=DeviceArray([0.10938995, 0.10938995, 0.10938995, 0.10938995], dtype=float64)), harmonic_angle_parameters=HarmonicAngleParameters(particles=DeviceArray([[1, 0, 2],\n",
       "             [1, 0, 3],\n",
       "             [1, 0, 4],\n",
       "             [2, 0, 3],\n",
       "             [2, 0, 4],\n",
       "             [3, 0, 4]], dtype=int32), epsilon=DeviceArray([408.16169048, 408.16169048, 408.16169048, 408.16169048,\n",
       "             408.16169048, 408.16169048], dtype=float64), length=DeviceArray([2.01765472, 2.01765472, 2.01765472, 2.01765472, 2.01765472,\n",
       "             2.01765472], dtype=float64)), periodic_torsion_parameters=PeriodicTorsionParameters(particles=DeviceArray([], dtype=int32), amplitude=DeviceArray([], dtype=float64), periodicity=DeviceArray([], dtype=float64), phase=DeviceArray([], dtype=float64)), nonbonded_exception_parameters=NonbondedExceptionParameters(particles=DeviceArray([[0, 1],\n",
       "             [0, 2],\n",
       "             [1, 2],\n",
       "             [0, 3],\n",
       "             [1, 3],\n",
       "             [2, 3],\n",
       "             [0, 4],\n",
       "             [1, 4],\n",
       "             [2, 4],\n",
       "             [3, 4]], dtype=int32), Q_sq=DeviceArray([0., 0., 0., 0., 0., 0., 0., 0., 0., 0.], dtype=float64), sigma=DeviceArray([1., 1., 1., 1., 1., 1., 1., 1., 1., 1.], dtype=float64), epsilon=DeviceArray([0., 0., 0., 0., 0., 0., 0., 0., 0., 0.], dtype=float64)), nonbonded_parameters=NonbondedParameters(charge=DeviceArray([0., 0., 0., 0., 0.], dtype=float64), sigma=DeviceArray([0.33795318, 0.26445434, 0.26445434, 0.26445434, 0.26445434],            dtype=float64), epsilon=DeviceArray([0.45538912, 0.06602136, 0.06602136, 0.06602136, 0.06602136],            dtype=float64)))"
      ]
     },
     "execution_count": 27,
     "metadata": {},
     "output_type": "execute_result"
    }
   ],
   "source": [
    "def parameters_from_molecule(\n",
    "        molecule: Molecule,\n",
    "        base_forcefield: str = \"openff_unconstrained-2.0.0.offxml\",\n",
    "):\n",
    "    \"\"\"Get jax_md.mm.MMEnergyFnParameters from single molecule.\n",
    "\n",
    "    Parameters\n",
    "    ----------\n",
    "    molecule : Molecule\n",
    "        Input OpenFF molecule.\n",
    "    base_forcefield : str\n",
    "        Base force field for nonbonded terms and exceptions.\n",
    "\n",
    "    Returns\n",
    "    -------\n",
    "    jax_md.mm.MMEnergyFnParameters\n",
    "        Resulting parameters.\n",
    "    \"\"\"\n",
    "    from openff.toolkit.typing.engines.smirnoff import ForceField\n",
    "    molecule.assign_partial_charges(\"zeros\")\n",
    "    forcefield = ForceField(base_forcefield)\n",
    "    system = forcefield.create_openmm_system(\n",
    "        molecule.to_topology(),\n",
    "        charge_from_molecules=[molecule],\n",
    "    )\n",
    "\n",
    "    from jax_md.mm_utils import parameters_from_openmm_system\n",
    "    parameters = parameters_from_openmm_system(system)\n",
    "    return parameters\n",
    "\n",
    "parameters_from_molecule(Molecule.from_smiles(\"C\"))"
   ]
  },
  {
   "cell_type": "code",
   "execution_count": null,
   "id": "e76e35b2",
   "metadata": {},
   "outputs": [],
   "source": []
  }
 ],
 "metadata": {
  "kernelspec": {
   "display_name": "Python 3 (ipykernel)",
   "language": "python",
   "name": "python3"
  },
  "language_info": {
   "codemirror_mode": {
    "name": "ipython",
    "version": 3
   },
   "file_extension": ".py",
   "mimetype": "text/x-python",
   "name": "python",
   "nbconvert_exporter": "python",
   "pygments_lexer": "ipython3",
   "version": "3.10.4"
  }
 },
 "nbformat": 4,
 "nbformat_minor": 5
}
