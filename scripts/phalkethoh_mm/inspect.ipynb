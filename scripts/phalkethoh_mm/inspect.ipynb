{
 "cells": [
  {
   "cell_type": "code",
   "execution_count": 1,
   "id": "90da1a17",
   "metadata": {},
   "outputs": [
    {
     "name": "stderr",
     "output_type": "stream",
     "text": [
      "Warning: Unable to load toolkit 'OpenEye Toolkit'. The Open Force Field Toolkit does not require the OpenEye Toolkits, and can use RDKit/AmberTools instead. However, if you have a valid license for the OpenEye Toolkits, consider installing them for faster performance and additional file format support: https://docs.eyesopen.com/toolkits/python/quickstart-python/linuxosx.html OpenEye offers free Toolkit licenses for academics: https://www.eyesopen.com/academic-licensing\n",
      "Warning: Unable to load toolkit 'AmberTools'. \n",
      "/Users/wangy1/miniconda3/envs/espalomax/lib/python3.10/site-packages/haiku/_src/data_structures.py:37: FutureWarning: jax.tree_structure is deprecated, and will be removed in a future release. Use jax.tree_util.tree_structure instead.\n",
      "  PyTreeDef = type(jax.tree_structure(None))\n"
     ]
    }
   ],
   "source": [
    "import random\n",
    "from openff.toolkit.topology import Molecule\n",
    "import h5py\n",
    "import numpy as onp\n",
    "import jax\n",
    "import jax.numpy as jnp\n",
    "import jax_md\n",
    "import espalomax as esp\n",
    "from concurrent import futures"
   ]
  },
  {
   "cell_type": "code",
   "execution_count": 2,
   "id": "e1b4c943",
   "metadata": {},
   "outputs": [],
   "source": [
    "def parameters_from_molecule(\n",
    "        molecule: Molecule,\n",
    "        base_forcefield: str = \"openff_unconstrained-2.0.0.offxml\",\n",
    "):\n",
    "    \"\"\"Get jax_md.mm.MMEnergyFnParameters from single molecule.\n",
    "\n",
    "    Parameters\n",
    "    ----------\n",
    "    molecule : Molecule\n",
    "        Input OpenFF molecule.\n",
    "    base_forcefield : str\n",
    "        Base force field for nonbonded terms and exceptions.\n",
    "\n",
    "    Returns\n",
    "    -------\n",
    "    jax_md.mm.MMEnergyFnParameters\n",
    "        Resulting parameters.\n",
    "    \"\"\"\n",
    "    from openff.toolkit.typing.engines.smirnoff import ForceField\n",
    "    molecule.assign_partial_charges(\"zeros\")\n",
    "    forcefield = ForceField(base_forcefield)\n",
    "    system = forcefield.create_openmm_system(\n",
    "        molecule.to_topology(),\n",
    "        charge_from_molecules=[molecule],\n",
    "    )\n",
    "\n",
    "    from jax_md.mm_utils import parameters_from_openmm_system\n",
    "    parameters = parameters_from_openmm_system(system)\n",
    "    return parameters"
   ]
  },
  {
   "cell_type": "code",
   "execution_count": 3,
   "id": "91627511",
   "metadata": {},
   "outputs": [
    {
     "ename": "IndexError",
     "evalue": "too many indices for array: array is 2-dimensional, but 12 were indexed",
     "output_type": "error",
     "traceback": [
      "\u001b[0;31m---------------------------------------------------------------------------\u001b[0m",
      "\u001b[0;31mIndexError\u001b[0m                                Traceback (most recent call last)",
      "Input \u001b[0;32mIn [3]\u001b[0m, in \u001b[0;36m<cell line: 25>\u001b[0;34m()\u001b[0m\n\u001b[1;32m     20\u001b[0m \u001b[38;5;28;01mfrom\u001b[39;00m \u001b[38;5;21;01mjax_md\u001b[39;00m\u001b[38;5;21;01m.\u001b[39;00m\u001b[38;5;21;01mmm\u001b[39;00m \u001b[38;5;28;01mimport\u001b[39;00m mm_energy_fn\n\u001b[1;32m     21\u001b[0m energy_fn, _ \u001b[38;5;241m=\u001b[39m mm_energy_fn(\n\u001b[1;32m     22\u001b[0m     displacement_fn, default_mm_parameters\u001b[38;5;241m=\u001b[39mparameters,\n\u001b[1;32m     23\u001b[0m )\n\u001b[0;32m---> 25\u001b[0m u \u001b[38;5;241m=\u001b[39m \u001b[43menergy_fn\u001b[49m\u001b[43m(\u001b[49m\u001b[43mcoordinate\u001b[49m\u001b[43m)\u001b[49m\n",
      "File \u001b[0;32m~/Documents/GitHub/jax-md/jax_md/mm.py:630\u001b[0m, in \u001b[0;36mmm_energy_fn.<locals>.energy_fn\u001b[0;34m(R, **dynamic_kwargs)\u001b[0m\n\u001b[1;32m    606\u001b[0m \u001b[38;5;124;03m\"\"\"\u001b[39;00m\n\u001b[1;32m    607\u001b[0m \u001b[38;5;124;03mcompute the molecular mechanics type energy.\u001b[39;00m\n\u001b[1;32m    608\u001b[0m \u001b[38;5;124;03mArgs:\u001b[39;00m\n\u001b[0;32m   (...)\u001b[0m\n\u001b[1;32m    626\u001b[0m \n\u001b[1;32m    627\u001b[0m \u001b[38;5;124;03m\"\"\"\u001b[39;00m\n\u001b[1;32m    628\u001b[0m mm_parameters \u001b[38;5;241m=\u001b[39m dynamic_kwargs\u001b[38;5;241m.\u001b[39mget(\u001b[38;5;124m'\u001b[39m\u001b[38;5;124mparameters\u001b[39m\u001b[38;5;124m'\u001b[39m,\n\u001b[1;32m    629\u001b[0m                                      default_mm_parameters)\n\u001b[0;32m--> 630\u001b[0m energies \u001b[38;5;241m=\u001b[39m \u001b[43mjax\u001b[49m\u001b[38;5;241;43m.\u001b[39;49m\u001b[43mtree_util\u001b[49m\u001b[38;5;241;43m.\u001b[39;49m\u001b[43mtree_map\u001b[49m\u001b[43m(\u001b[49m\u001b[38;5;28;43;01mlambda\u001b[39;49;00m\u001b[43m \u001b[49m\u001b[43me_fn\u001b[49m\u001b[43m:\u001b[49m\n\u001b[1;32m    631\u001b[0m \u001b[43m                                    \u001b[49m\u001b[43me_fn\u001b[49m\u001b[43m(\u001b[49m\u001b[43mR\u001b[49m\u001b[43m,\u001b[49m\n\u001b[1;32m    632\u001b[0m \u001b[43m                                    \u001b[49m\u001b[43mparent_parameters_dict\u001b[49m\u001b[38;5;241;43m=\u001b[39;49m\u001b[43m\\\u001b[49m\n\u001b[1;32m    633\u001b[0m \u001b[43m                                        \u001b[49m\u001b[38;5;28;43mdict\u001b[39;49m\u001b[43m(\u001b[49m\u001b[43mmm_parameters\u001b[49m\u001b[38;5;241;43m.\u001b[39;49m\u001b[43m_asdict\u001b[49m\u001b[43m(\u001b[49m\u001b[43m)\u001b[49m\u001b[43m)\u001b[49m\u001b[43m,\u001b[49m\n\u001b[1;32m    634\u001b[0m \u001b[43m                                    \u001b[49m\u001b[38;5;241;43m*\u001b[39;49m\u001b[38;5;241;43m*\u001b[39;49m\u001b[43mdynamic_kwargs\u001b[49m\u001b[43m)\u001b[49m\u001b[43m,\u001b[49m\n\u001b[1;32m    635\u001b[0m \u001b[43m                        \u001b[49m\u001b[43mmm_energy_fns\u001b[49m\u001b[43m)\u001b[49m\n\u001b[1;32m    636\u001b[0m \u001b[38;5;66;03m# do we want to return a dict or a singular float?\u001b[39;00m\n\u001b[1;32m    637\u001b[0m accum \u001b[38;5;241m=\u001b[39m f32(\u001b[38;5;241m0\u001b[39m)\n",
      "File \u001b[0;32m~/miniconda3/envs/espalomax/lib/python3.10/site-packages/jax/_src/tree_util.py:205\u001b[0m, in \u001b[0;36mtree_map\u001b[0;34m(f, tree, is_leaf, *rest)\u001b[0m\n\u001b[1;32m    203\u001b[0m leaves, treedef \u001b[38;5;241m=\u001b[39m tree_flatten(tree, is_leaf)\n\u001b[1;32m    204\u001b[0m all_leaves \u001b[38;5;241m=\u001b[39m [leaves] \u001b[38;5;241m+\u001b[39m [treedef\u001b[38;5;241m.\u001b[39mflatten_up_to(r) \u001b[38;5;28;01mfor\u001b[39;00m r \u001b[38;5;129;01min\u001b[39;00m rest]\n\u001b[0;32m--> 205\u001b[0m \u001b[38;5;28;01mreturn\u001b[39;00m \u001b[43mtreedef\u001b[49m\u001b[38;5;241;43m.\u001b[39;49m\u001b[43munflatten\u001b[49m\u001b[43m(\u001b[49m\u001b[43mf\u001b[49m\u001b[43m(\u001b[49m\u001b[38;5;241;43m*\u001b[39;49m\u001b[43mxs\u001b[49m\u001b[43m)\u001b[49m\u001b[43m \u001b[49m\u001b[38;5;28;43;01mfor\u001b[39;49;00m\u001b[43m \u001b[49m\u001b[43mxs\u001b[49m\u001b[43m \u001b[49m\u001b[38;5;129;43;01min\u001b[39;49;00m\u001b[43m \u001b[49m\u001b[38;5;28;43mzip\u001b[39;49m\u001b[43m(\u001b[49m\u001b[38;5;241;43m*\u001b[39;49m\u001b[43mall_leaves\u001b[49m\u001b[43m)\u001b[49m\u001b[43m)\u001b[49m\n",
      "File \u001b[0;32m~/miniconda3/envs/espalomax/lib/python3.10/site-packages/jax/_src/tree_util.py:205\u001b[0m, in \u001b[0;36m<genexpr>\u001b[0;34m(.0)\u001b[0m\n\u001b[1;32m    203\u001b[0m leaves, treedef \u001b[38;5;241m=\u001b[39m tree_flatten(tree, is_leaf)\n\u001b[1;32m    204\u001b[0m all_leaves \u001b[38;5;241m=\u001b[39m [leaves] \u001b[38;5;241m+\u001b[39m [treedef\u001b[38;5;241m.\u001b[39mflatten_up_to(r) \u001b[38;5;28;01mfor\u001b[39;00m r \u001b[38;5;129;01min\u001b[39;00m rest]\n\u001b[0;32m--> 205\u001b[0m \u001b[38;5;28;01mreturn\u001b[39;00m treedef\u001b[38;5;241m.\u001b[39munflatten(\u001b[43mf\u001b[49m\u001b[43m(\u001b[49m\u001b[38;5;241;43m*\u001b[39;49m\u001b[43mxs\u001b[49m\u001b[43m)\u001b[49m \u001b[38;5;28;01mfor\u001b[39;00m xs \u001b[38;5;129;01min\u001b[39;00m \u001b[38;5;28mzip\u001b[39m(\u001b[38;5;241m*\u001b[39mall_leaves))\n",
      "File \u001b[0;32m~/Documents/GitHub/jax-md/jax_md/mm.py:631\u001b[0m, in \u001b[0;36mmm_energy_fn.<locals>.energy_fn.<locals>.<lambda>\u001b[0;34m(e_fn)\u001b[0m\n\u001b[1;32m    606\u001b[0m \u001b[38;5;124;03m\"\"\"\u001b[39;00m\n\u001b[1;32m    607\u001b[0m \u001b[38;5;124;03mcompute the molecular mechanics type energy.\u001b[39;00m\n\u001b[1;32m    608\u001b[0m \u001b[38;5;124;03mArgs:\u001b[39;00m\n\u001b[0;32m   (...)\u001b[0m\n\u001b[1;32m    626\u001b[0m \n\u001b[1;32m    627\u001b[0m \u001b[38;5;124;03m\"\"\"\u001b[39;00m\n\u001b[1;32m    628\u001b[0m mm_parameters \u001b[38;5;241m=\u001b[39m dynamic_kwargs\u001b[38;5;241m.\u001b[39mget(\u001b[38;5;124m'\u001b[39m\u001b[38;5;124mparameters\u001b[39m\u001b[38;5;124m'\u001b[39m,\n\u001b[1;32m    629\u001b[0m                                      default_mm_parameters)\n\u001b[1;32m    630\u001b[0m energies \u001b[38;5;241m=\u001b[39m jax\u001b[38;5;241m.\u001b[39mtree_util\u001b[38;5;241m.\u001b[39mtree_map(\u001b[38;5;28;01mlambda\u001b[39;00m e_fn:\n\u001b[0;32m--> 631\u001b[0m                                     \u001b[43me_fn\u001b[49m\u001b[43m(\u001b[49m\u001b[43mR\u001b[49m\u001b[43m,\u001b[49m\n\u001b[1;32m    632\u001b[0m \u001b[43m                                    \u001b[49m\u001b[43mparent_parameters_dict\u001b[49m\u001b[38;5;241;43m=\u001b[39;49m\u001b[43m\\\u001b[49m\n\u001b[1;32m    633\u001b[0m \u001b[43m                                        \u001b[49m\u001b[38;5;28;43mdict\u001b[39;49m\u001b[43m(\u001b[49m\u001b[43mmm_parameters\u001b[49m\u001b[38;5;241;43m.\u001b[39;49m\u001b[43m_asdict\u001b[49m\u001b[43m(\u001b[49m\u001b[43m)\u001b[49m\u001b[43m)\u001b[49m\u001b[43m,\u001b[49m\n\u001b[1;32m    634\u001b[0m \u001b[43m                                    \u001b[49m\u001b[38;5;241;43m*\u001b[39;49m\u001b[38;5;241;43m*\u001b[39;49m\u001b[43mdynamic_kwargs\u001b[49m\u001b[43m)\u001b[49m,\n\u001b[1;32m    635\u001b[0m                         mm_energy_fns)\n\u001b[1;32m    636\u001b[0m \u001b[38;5;66;03m# do we want to return a dict or a singular float?\u001b[39;00m\n\u001b[1;32m    637\u001b[0m accum \u001b[38;5;241m=\u001b[39m f32(\u001b[38;5;241m0\u001b[39m)\n",
      "File \u001b[0;32m~/Documents/GitHub/jax-md/jax_md/mm.py:396\u001b[0m, in \u001b[0;36mbonded_energy_handler.<locals>.wrapped_energy_fn\u001b[0;34m(R, parent_parameters_dict, **dynamic_kwargs)\u001b[0m\n\u001b[1;32m    391\u001b[0m \u001b[38;5;28;01mdef\u001b[39;00m \u001b[38;5;21mwrapped_energy_fn\u001b[39m(R: Array,\n\u001b[1;32m    392\u001b[0m                       parent_parameters_dict,\n\u001b[1;32m    393\u001b[0m                       \u001b[38;5;241m*\u001b[39m\u001b[38;5;241m*\u001b[39mdynamic_kwargs):\n\u001b[1;32m    394\u001b[0m     energy_specific_parameters \u001b[38;5;241m=\u001b[39m \\\n\u001b[1;32m    395\u001b[0m         parent_parameters_dict\u001b[38;5;241m.\u001b[39mget(snake_parameter_name, default_parameters)\n\u001b[0;32m--> 396\u001b[0m     \u001b[38;5;28;01mreturn\u001b[39;00m \u001b[43menergy_fn\u001b[49m\u001b[43m(\u001b[49m\u001b[43mR\u001b[49m\u001b[43m,\u001b[49m\u001b[43m \u001b[49m\u001b[43menergy_specific_parameters\u001b[49m\u001b[43m,\u001b[49m\u001b[43m \u001b[49m\u001b[38;5;241;43m*\u001b[39;49m\u001b[38;5;241;43m*\u001b[39;49m\u001b[43mdynamic_kwargs\u001b[49m\u001b[43m)\u001b[49m\n",
      "File \u001b[0;32m~/Documents/GitHub/jax-md/jax_md/mm.py:388\u001b[0m, in \u001b[0;36mbonded_energy_handler.<locals>.energy_fn\u001b[0;34m(R, parameters, **dynamic_kwargs)\u001b[0m\n\u001b[1;32m    386\u001b[0m bond_types \u001b[38;5;241m=\u001b[39m \u001b[38;5;28mdict\u001b[39m(parameters\u001b[38;5;241m.\u001b[39m_asdict())\n\u001b[1;32m    387\u001b[0m _ \u001b[38;5;241m=\u001b[39m bond_types\u001b[38;5;241m.\u001b[39mpop(\u001b[38;5;124m'\u001b[39m\u001b[38;5;124mparticles\u001b[39m\u001b[38;5;124m'\u001b[39m) \u001b[38;5;66;03m# remove for redundancy\u001b[39;00m\n\u001b[0;32m--> 388\u001b[0m out \u001b[38;5;241m=\u001b[39m \u001b[43mbond_fn\u001b[49m\u001b[43m(\u001b[49m\u001b[43mR\u001b[49m\u001b[43m,\u001b[49m\u001b[43m \u001b[49m\u001b[43mbonds\u001b[49m\u001b[43m,\u001b[49m\u001b[43m \u001b[49m\u001b[43mbond_types\u001b[49m\u001b[43m,\u001b[49m\u001b[43m \u001b[49m\u001b[38;5;241;43m*\u001b[39;49m\u001b[38;5;241;43m*\u001b[39;49m\u001b[43mdynamic_kwargs\u001b[49m\u001b[43m)\u001b[49m\n\u001b[1;32m    389\u001b[0m \u001b[38;5;28;01mreturn\u001b[39;00m out\n",
      "File \u001b[0;32m~/Documents/GitHub/jax-md/jax_md/smap.py:250\u001b[0m, in \u001b[0;36mbond.<locals>.mapped_fn\u001b[0;34m(R, bonds, bond_types, **dynamic_kwargs)\u001b[0m\n\u001b[1;32m    247\u001b[0m accum \u001b[38;5;241m=\u001b[39m f32(\u001b[38;5;241m0\u001b[39m)\n\u001b[1;32m    249\u001b[0m \u001b[38;5;28;01mif\u001b[39;00m bonds \u001b[38;5;129;01mis\u001b[39;00m \u001b[38;5;129;01mnot\u001b[39;00m \u001b[38;5;28;01mNone\u001b[39;00m:\n\u001b[0;32m--> 250\u001b[0m   accum \u001b[38;5;241m=\u001b[39m accum \u001b[38;5;241m+\u001b[39m \u001b[43mcompute_fn\u001b[49m\u001b[43m(\u001b[49m\u001b[43mR\u001b[49m\u001b[43m,\u001b[49m\u001b[43m \u001b[49m\u001b[43mbonds\u001b[49m\u001b[43m,\u001b[49m\u001b[43m \u001b[49m\u001b[43mbond_types\u001b[49m\u001b[43m,\u001b[49m\u001b[43m \u001b[49m\u001b[43mkwargs\u001b[49m\u001b[43m,\u001b[49m\u001b[43m \u001b[49m\u001b[43mdynamic_kwargs\u001b[49m\u001b[43m)\u001b[49m\n\u001b[1;32m    252\u001b[0m \u001b[38;5;28;01mif\u001b[39;00m static_bonds \u001b[38;5;129;01mis\u001b[39;00m \u001b[38;5;129;01mnot\u001b[39;00m \u001b[38;5;28;01mNone\u001b[39;00m:\n\u001b[1;32m    253\u001b[0m   accum \u001b[38;5;241m=\u001b[39m accum \u001b[38;5;241m+\u001b[39m compute_fn(\n\u001b[1;32m    254\u001b[0m       R, static_bonds, static_bond_types, kwargs, dynamic_kwargs)\n",
      "File \u001b[0;32m~/Documents/GitHub/jax-md/jax_md/smap.py:236\u001b[0m, in \u001b[0;36mbond.<locals>.compute_fn\u001b[0;34m(R, bonds, bond_types, static_kwargs, dynamic_kwargs)\u001b[0m\n\u001b[1;32m    233\u001b[0m \u001b[38;5;28;01melse\u001b[39;00m:\n\u001b[1;32m    234\u001b[0m   _kwargs \u001b[38;5;241m=\u001b[39m merge_dicts(_kwargs, bond_types)\n\u001b[0;32m--> 236\u001b[0m _args \u001b[38;5;241m=\u001b[39m \u001b[43mgeometry_handler_fn\u001b[49m\u001b[43m(\u001b[49m\u001b[43mR\u001b[49m\u001b[43m,\u001b[49m\u001b[43m \u001b[49m\u001b[43mbonds\u001b[49m\u001b[43m,\u001b[49m\u001b[43m \u001b[49m\u001b[38;5;241;43m*\u001b[39;49m\u001b[38;5;241;43m*\u001b[39;49m\u001b[43mgeometry_handler_kwargs\u001b[49m\u001b[43m)\u001b[49m\n\u001b[1;32m    237\u001b[0m outs \u001b[38;5;241m=\u001b[39m fn(\u001b[38;5;241m*\u001b[39m_args, \u001b[38;5;241m*\u001b[39m\u001b[38;5;241m*\u001b[39m_kwargs)\n\u001b[1;32m    238\u001b[0m \u001b[38;5;28;01mif\u001b[39;00m \u001b[38;5;129;01mnot\u001b[39;00m per_term:\n",
      "File \u001b[0;32m~/Documents/GitHub/jax-md/jax_md/mm.py:327\u001b[0m, in \u001b[0;36mget_bond_prereq_fns.<locals>.angle_handler_fn\u001b[0;34m(R, bonds, **_dynamic_kwargs)\u001b[0m\n\u001b[1;32m    326\u001b[0m \u001b[38;5;28;01mdef\u001b[39;00m \u001b[38;5;21mangle_handler_fn\u001b[39m(R: Array, bonds: Array, \u001b[38;5;241m*\u001b[39m\u001b[38;5;241m*\u001b[39m_dynamic_kwargs):\n\u001b[0;32m--> 327\u001b[0m   r1s, r2s, r3s \u001b[38;5;241m=\u001b[39m [R[bonds[:,i]] \u001b[38;5;28;01mfor\u001b[39;00m i \u001b[38;5;129;01min\u001b[39;00m \u001b[38;5;28mrange\u001b[39m(\u001b[38;5;241m3\u001b[39m)]\n\u001b[1;32m    328\u001b[0m   d \u001b[38;5;241m=\u001b[39m vmap(partial(displacement_fn, \u001b[38;5;241m*\u001b[39m\u001b[38;5;241m*\u001b[39m_dynamic_kwargs), \u001b[38;5;241m0\u001b[39m, \u001b[38;5;241m0\u001b[39m)\n\u001b[1;32m    329\u001b[0m   r21s, r23s \u001b[38;5;241m=\u001b[39m d(r1s, r2s), d(r3s, r2s)\n",
      "File \u001b[0;32m~/Documents/GitHub/jax-md/jax_md/mm.py:327\u001b[0m, in \u001b[0;36m<listcomp>\u001b[0;34m(.0)\u001b[0m\n\u001b[1;32m    326\u001b[0m \u001b[38;5;28;01mdef\u001b[39;00m \u001b[38;5;21mangle_handler_fn\u001b[39m(R: Array, bonds: Array, \u001b[38;5;241m*\u001b[39m\u001b[38;5;241m*\u001b[39m_dynamic_kwargs):\n\u001b[0;32m--> 327\u001b[0m   r1s, r2s, r3s \u001b[38;5;241m=\u001b[39m [\u001b[43mR\u001b[49m\u001b[43m[\u001b[49m\u001b[43mbonds\u001b[49m\u001b[43m[\u001b[49m\u001b[43m:\u001b[49m\u001b[43m,\u001b[49m\u001b[43mi\u001b[49m\u001b[43m]\u001b[49m\u001b[43m]\u001b[49m \u001b[38;5;28;01mfor\u001b[39;00m i \u001b[38;5;129;01min\u001b[39;00m \u001b[38;5;28mrange\u001b[39m(\u001b[38;5;241m3\u001b[39m)]\n\u001b[1;32m    328\u001b[0m   d \u001b[38;5;241m=\u001b[39m vmap(partial(displacement_fn, \u001b[38;5;241m*\u001b[39m\u001b[38;5;241m*\u001b[39m_dynamic_kwargs), \u001b[38;5;241m0\u001b[39m, \u001b[38;5;241m0\u001b[39m)\n\u001b[1;32m    329\u001b[0m   r21s, r23s \u001b[38;5;241m=\u001b[39m d(r1s, r2s), d(r3s, r2s)\n",
      "\u001b[0;31mIndexError\u001b[0m: too many indices for array: array is 2-dimensional, but 12 were indexed"
     ]
    }
   ],
   "source": [
    "from openff.toolkit.topology import Molecule\n",
    "from openff.toolkit.typing.engines.smirnoff import ForceField\n",
    "smiles = \"CC\"\n",
    "molecule = Molecule.from_smiles(smiles)\n",
    "molecule.assign_partial_charges(\"zeros\")\n",
    "forcefield = ForceField(\"openff_unconstrained-2.0.0.offxml\")\n",
    "system = forcefield.create_openmm_system(\n",
    "    molecule.to_topology(),\n",
    "    charge_from_molecules=[molecule],\n",
    ")\n",
    "\n",
    "from jax_md.mm_utils import parameters_from_openmm_system\n",
    "parameters = parameters_from_openmm_system(system)\n",
    "molecule.generate_conformers()\n",
    "coordinate = molecule.conformers[0]._value * 0.1\n",
    "\n",
    "from jax_md import space\n",
    "displacement_fn, shift_fn = space.free()\n",
    "\n",
    "from jax_md.mm import mm_energy_fn\n",
    "energy_fn, _ = mm_energy_fn(\n",
    "    displacement_fn, default_mm_parameters=parameters,\n",
    ")\n",
    "\n",
    "u = energy_fn(coordinate)\n"
   ]
  },
  {
   "cell_type": "code",
   "execution_count": 24,
   "id": "da944d5d",
   "metadata": {},
   "outputs": [
    {
     "data": {
      "text/plain": [
       "DeviceArray([56.87375117], dtype=float64)"
      ]
     },
     "execution_count": 24,
     "metadata": {},
     "output_type": "execute_result"
    }
   ],
   "source": [
    "u_jax_md"
   ]
  },
  {
   "cell_type": "code",
   "execution_count": 16,
   "id": "0c9ae7bd",
   "metadata": {},
   "outputs": [
    {
     "data": {
      "text/plain": [
       "MMEnergyFnParameters(harmonic_bond_parameters=HarmonicBondParameters(particles=DeviceArray([[0, 1],\n",
       "             [0, 2],\n",
       "             [0, 3],\n",
       "             [0, 4]], dtype=int32), epsilon=DeviceArray([309655.08432241, 309655.08432241, 309655.08432241,\n",
       "             309655.08432241], dtype=float64), length=DeviceArray([0.10938995, 0.10938995, 0.10938995, 0.10938995], dtype=float64)), harmonic_angle_parameters=HarmonicAngleParameters(particles=DeviceArray([[1, 0, 2],\n",
       "             [1, 0, 3],\n",
       "             [1, 0, 4],\n",
       "             [2, 0, 3],\n",
       "             [2, 0, 4],\n",
       "             [3, 0, 4]], dtype=int32), epsilon=DeviceArray([408.16169048, 408.16169048, 408.16169048, 408.16169048,\n",
       "             408.16169048, 408.16169048], dtype=float64), length=DeviceArray([2.01765472, 2.01765472, 2.01765472, 2.01765472, 2.01765472,\n",
       "             2.01765472], dtype=float64)), periodic_torsion_parameters=PeriodicTorsionParameters(particles=DeviceArray([], dtype=int32), amplitude=DeviceArray([], dtype=float64), periodicity=DeviceArray([], dtype=float64), phase=DeviceArray([], dtype=float64)), nonbonded_exception_parameters=NonbondedExceptionParameters(particles=DeviceArray([[0, 1],\n",
       "             [0, 2],\n",
       "             [1, 2],\n",
       "             [0, 3],\n",
       "             [1, 3],\n",
       "             [2, 3],\n",
       "             [0, 4],\n",
       "             [1, 4],\n",
       "             [2, 4],\n",
       "             [3, 4]], dtype=int32), Q_sq=DeviceArray([0., 0., 0., 0., 0., 0., 0., 0., 0., 0.], dtype=float64), sigma=DeviceArray([1., 1., 1., 1., 1., 1., 1., 1., 1., 1.], dtype=float64), epsilon=DeviceArray([0., 0., 0., 0., 0., 0., 0., 0., 0., 0.], dtype=float64)), nonbonded_parameters=NonbondedParameters(charge=DeviceArray([0., 0., 0., 0., 0.], dtype=float64), sigma=DeviceArray([0.33795318, 0.26445434, 0.26445434, 0.26445434, 0.26445434],            dtype=float64), epsilon=DeviceArray([0.45538912, 0.06602136, 0.06602136, 0.06602136, 0.06602136],            dtype=float64)))"
      ]
     },
     "execution_count": 16,
     "metadata": {},
     "output_type": "execute_result"
    }
   ],
   "source": [
    "base_parameters"
   ]
  },
  {
   "cell_type": "code",
   "execution_count": 54,
   "id": "5737b14d",
   "metadata": {},
   "outputs": [
    {
     "ename": "IndexError",
     "evalue": "Too many indices for array: 2 non-None/Ellipsis indices for dim 1.",
     "output_type": "error",
     "traceback": [
      "\u001b[0;31m---------------------------------------------------------------------------\u001b[0m",
      "\u001b[0;31mIndexError\u001b[0m                                Traceback (most recent call last)",
      "Input \u001b[0;32mIn [54]\u001b[0m, in \u001b[0;36m<cell line: 1>\u001b[0;34m()\u001b[0m\n\u001b[0;32m----> 1\u001b[0m \u001b[43menergy_fn\u001b[49m\u001b[43m(\u001b[49m\u001b[43mx\u001b[49m\u001b[43m)\u001b[49m\n",
      "File \u001b[0;32m~/Documents/GitHub/jax-md/jax_md/mm.py:628\u001b[0m, in \u001b[0;36mmm_energy_fn.<locals>.energy_fn\u001b[0;34m(R, **dynamic_kwargs)\u001b[0m\n\u001b[1;32m    604\u001b[0m \u001b[38;5;124;03m\"\"\"\u001b[39;00m\n\u001b[1;32m    605\u001b[0m \u001b[38;5;124;03mcompute the molecular mechanics type energy.\u001b[39;00m\n\u001b[1;32m    606\u001b[0m \u001b[38;5;124;03mArgs:\u001b[39;00m\n\u001b[0;32m   (...)\u001b[0m\n\u001b[1;32m    624\u001b[0m \n\u001b[1;32m    625\u001b[0m \u001b[38;5;124;03m\"\"\"\u001b[39;00m\n\u001b[1;32m    626\u001b[0m mm_parameters \u001b[38;5;241m=\u001b[39m dynamic_kwargs\u001b[38;5;241m.\u001b[39mget(\u001b[38;5;124m'\u001b[39m\u001b[38;5;124mparameters\u001b[39m\u001b[38;5;124m'\u001b[39m,\n\u001b[1;32m    627\u001b[0m                                      default_mm_parameters)\n\u001b[0;32m--> 628\u001b[0m energies \u001b[38;5;241m=\u001b[39m \u001b[43mjax\u001b[49m\u001b[38;5;241;43m.\u001b[39;49m\u001b[43mtree_util\u001b[49m\u001b[38;5;241;43m.\u001b[39;49m\u001b[43mtree_map\u001b[49m\u001b[43m(\u001b[49m\u001b[38;5;28;43;01mlambda\u001b[39;49;00m\u001b[43m \u001b[49m\u001b[43me_fn\u001b[49m\u001b[43m:\u001b[49m\n\u001b[1;32m    629\u001b[0m \u001b[43m                                    \u001b[49m\u001b[43me_fn\u001b[49m\u001b[43m(\u001b[49m\u001b[43mR\u001b[49m\u001b[43m,\u001b[49m\n\u001b[1;32m    630\u001b[0m \u001b[43m                                    \u001b[49m\u001b[43mparent_parameters_dict\u001b[49m\u001b[38;5;241;43m=\u001b[39;49m\u001b[43m\\\u001b[49m\n\u001b[1;32m    631\u001b[0m \u001b[43m                                        \u001b[49m\u001b[38;5;28;43mdict\u001b[39;49m\u001b[43m(\u001b[49m\u001b[43mmm_parameters\u001b[49m\u001b[38;5;241;43m.\u001b[39;49m\u001b[43m_asdict\u001b[49m\u001b[43m(\u001b[49m\u001b[43m)\u001b[49m\u001b[43m)\u001b[49m\u001b[43m,\u001b[49m\n\u001b[1;32m    632\u001b[0m \u001b[43m                                    \u001b[49m\u001b[38;5;241;43m*\u001b[39;49m\u001b[38;5;241;43m*\u001b[39;49m\u001b[43mdynamic_kwargs\u001b[49m\u001b[43m)\u001b[49m\u001b[43m,\u001b[49m\n\u001b[1;32m    633\u001b[0m \u001b[43m                        \u001b[49m\u001b[43mmm_energy_fns\u001b[49m\u001b[43m)\u001b[49m\n\u001b[1;32m    634\u001b[0m \u001b[38;5;66;03m# do we want to return a dict or a singular float?\u001b[39;00m\n\u001b[1;32m    635\u001b[0m accum \u001b[38;5;241m=\u001b[39m f32(\u001b[38;5;241m0\u001b[39m)\n",
      "File \u001b[0;32m~/miniconda3/envs/espalomax/lib/python3.10/site-packages/jax/_src/tree_util.py:205\u001b[0m, in \u001b[0;36mtree_map\u001b[0;34m(f, tree, is_leaf, *rest)\u001b[0m\n\u001b[1;32m    203\u001b[0m leaves, treedef \u001b[38;5;241m=\u001b[39m tree_flatten(tree, is_leaf)\n\u001b[1;32m    204\u001b[0m all_leaves \u001b[38;5;241m=\u001b[39m [leaves] \u001b[38;5;241m+\u001b[39m [treedef\u001b[38;5;241m.\u001b[39mflatten_up_to(r) \u001b[38;5;28;01mfor\u001b[39;00m r \u001b[38;5;129;01min\u001b[39;00m rest]\n\u001b[0;32m--> 205\u001b[0m \u001b[38;5;28;01mreturn\u001b[39;00m \u001b[43mtreedef\u001b[49m\u001b[38;5;241;43m.\u001b[39;49m\u001b[43munflatten\u001b[49m\u001b[43m(\u001b[49m\u001b[43mf\u001b[49m\u001b[43m(\u001b[49m\u001b[38;5;241;43m*\u001b[39;49m\u001b[43mxs\u001b[49m\u001b[43m)\u001b[49m\u001b[43m \u001b[49m\u001b[38;5;28;43;01mfor\u001b[39;49;00m\u001b[43m \u001b[49m\u001b[43mxs\u001b[49m\u001b[43m \u001b[49m\u001b[38;5;129;43;01min\u001b[39;49;00m\u001b[43m \u001b[49m\u001b[38;5;28;43mzip\u001b[39;49m\u001b[43m(\u001b[49m\u001b[38;5;241;43m*\u001b[39;49m\u001b[43mall_leaves\u001b[49m\u001b[43m)\u001b[49m\u001b[43m)\u001b[49m\n",
      "File \u001b[0;32m~/miniconda3/envs/espalomax/lib/python3.10/site-packages/jax/_src/tree_util.py:205\u001b[0m, in \u001b[0;36m<genexpr>\u001b[0;34m(.0)\u001b[0m\n\u001b[1;32m    203\u001b[0m leaves, treedef \u001b[38;5;241m=\u001b[39m tree_flatten(tree, is_leaf)\n\u001b[1;32m    204\u001b[0m all_leaves \u001b[38;5;241m=\u001b[39m [leaves] \u001b[38;5;241m+\u001b[39m [treedef\u001b[38;5;241m.\u001b[39mflatten_up_to(r) \u001b[38;5;28;01mfor\u001b[39;00m r \u001b[38;5;129;01min\u001b[39;00m rest]\n\u001b[0;32m--> 205\u001b[0m \u001b[38;5;28;01mreturn\u001b[39;00m treedef\u001b[38;5;241m.\u001b[39munflatten(\u001b[43mf\u001b[49m\u001b[43m(\u001b[49m\u001b[38;5;241;43m*\u001b[39;49m\u001b[43mxs\u001b[49m\u001b[43m)\u001b[49m \u001b[38;5;28;01mfor\u001b[39;00m xs \u001b[38;5;129;01min\u001b[39;00m \u001b[38;5;28mzip\u001b[39m(\u001b[38;5;241m*\u001b[39mall_leaves))\n",
      "File \u001b[0;32m~/Documents/GitHub/jax-md/jax_md/mm.py:629\u001b[0m, in \u001b[0;36mmm_energy_fn.<locals>.energy_fn.<locals>.<lambda>\u001b[0;34m(e_fn)\u001b[0m\n\u001b[1;32m    604\u001b[0m \u001b[38;5;124;03m\"\"\"\u001b[39;00m\n\u001b[1;32m    605\u001b[0m \u001b[38;5;124;03mcompute the molecular mechanics type energy.\u001b[39;00m\n\u001b[1;32m    606\u001b[0m \u001b[38;5;124;03mArgs:\u001b[39;00m\n\u001b[0;32m   (...)\u001b[0m\n\u001b[1;32m    624\u001b[0m \n\u001b[1;32m    625\u001b[0m \u001b[38;5;124;03m\"\"\"\u001b[39;00m\n\u001b[1;32m    626\u001b[0m mm_parameters \u001b[38;5;241m=\u001b[39m dynamic_kwargs\u001b[38;5;241m.\u001b[39mget(\u001b[38;5;124m'\u001b[39m\u001b[38;5;124mparameters\u001b[39m\u001b[38;5;124m'\u001b[39m,\n\u001b[1;32m    627\u001b[0m                                      default_mm_parameters)\n\u001b[1;32m    628\u001b[0m energies \u001b[38;5;241m=\u001b[39m jax\u001b[38;5;241m.\u001b[39mtree_util\u001b[38;5;241m.\u001b[39mtree_map(\u001b[38;5;28;01mlambda\u001b[39;00m e_fn:\n\u001b[0;32m--> 629\u001b[0m                                     \u001b[43me_fn\u001b[49m\u001b[43m(\u001b[49m\u001b[43mR\u001b[49m\u001b[43m,\u001b[49m\n\u001b[1;32m    630\u001b[0m \u001b[43m                                    \u001b[49m\u001b[43mparent_parameters_dict\u001b[49m\u001b[38;5;241;43m=\u001b[39;49m\u001b[43m\\\u001b[49m\n\u001b[1;32m    631\u001b[0m \u001b[43m                                        \u001b[49m\u001b[38;5;28;43mdict\u001b[39;49m\u001b[43m(\u001b[49m\u001b[43mmm_parameters\u001b[49m\u001b[38;5;241;43m.\u001b[39;49m\u001b[43m_asdict\u001b[49m\u001b[43m(\u001b[49m\u001b[43m)\u001b[49m\u001b[43m)\u001b[49m\u001b[43m,\u001b[49m\n\u001b[1;32m    632\u001b[0m \u001b[43m                                    \u001b[49m\u001b[38;5;241;43m*\u001b[39;49m\u001b[38;5;241;43m*\u001b[39;49m\u001b[43mdynamic_kwargs\u001b[49m\u001b[43m)\u001b[49m,\n\u001b[1;32m    633\u001b[0m                         mm_energy_fns)\n\u001b[1;32m    634\u001b[0m \u001b[38;5;66;03m# do we want to return a dict or a singular float?\u001b[39;00m\n\u001b[1;32m    635\u001b[0m accum \u001b[38;5;241m=\u001b[39m f32(\u001b[38;5;241m0\u001b[39m)\n",
      "File \u001b[0;32m~/Documents/GitHub/jax-md/jax_md/mm.py:394\u001b[0m, in \u001b[0;36mbonded_energy_handler.<locals>.wrapped_energy_fn\u001b[0;34m(R, parent_parameters_dict, **dynamic_kwargs)\u001b[0m\n\u001b[1;32m    389\u001b[0m \u001b[38;5;28;01mdef\u001b[39;00m \u001b[38;5;21mwrapped_energy_fn\u001b[39m(R: Array,\n\u001b[1;32m    390\u001b[0m                       parent_parameters_dict,\n\u001b[1;32m    391\u001b[0m                       \u001b[38;5;241m*\u001b[39m\u001b[38;5;241m*\u001b[39mdynamic_kwargs):\n\u001b[1;32m    392\u001b[0m     energy_specific_parameters \u001b[38;5;241m=\u001b[39m \\\n\u001b[1;32m    393\u001b[0m         parent_parameters_dict\u001b[38;5;241m.\u001b[39mget(snake_parameter_name, default_parameters)\n\u001b[0;32m--> 394\u001b[0m     \u001b[38;5;28;01mreturn\u001b[39;00m \u001b[43menergy_fn\u001b[49m\u001b[43m(\u001b[49m\u001b[43mR\u001b[49m\u001b[43m,\u001b[49m\u001b[43m \u001b[49m\u001b[43menergy_specific_parameters\u001b[49m\u001b[43m,\u001b[49m\u001b[43m \u001b[49m\u001b[38;5;241;43m*\u001b[39;49m\u001b[38;5;241;43m*\u001b[39;49m\u001b[43mdynamic_kwargs\u001b[49m\u001b[43m)\u001b[49m\n",
      "File \u001b[0;32m~/Documents/GitHub/jax-md/jax_md/mm.py:386\u001b[0m, in \u001b[0;36mbonded_energy_handler.<locals>.energy_fn\u001b[0;34m(R, parameters, **dynamic_kwargs)\u001b[0m\n\u001b[1;32m    384\u001b[0m bond_types \u001b[38;5;241m=\u001b[39m \u001b[38;5;28mdict\u001b[39m(parameters\u001b[38;5;241m.\u001b[39m_asdict())\n\u001b[1;32m    385\u001b[0m _ \u001b[38;5;241m=\u001b[39m bond_types\u001b[38;5;241m.\u001b[39mpop(\u001b[38;5;124m'\u001b[39m\u001b[38;5;124mparticles\u001b[39m\u001b[38;5;124m'\u001b[39m) \u001b[38;5;66;03m# remove for redundancy\u001b[39;00m\n\u001b[0;32m--> 386\u001b[0m out \u001b[38;5;241m=\u001b[39m \u001b[43mbond_fn\u001b[49m\u001b[43m(\u001b[49m\u001b[43mR\u001b[49m\u001b[43m,\u001b[49m\u001b[43m \u001b[49m\u001b[43mbonds\u001b[49m\u001b[43m,\u001b[49m\u001b[43m \u001b[49m\u001b[43mbond_types\u001b[49m\u001b[43m,\u001b[49m\u001b[43m \u001b[49m\u001b[38;5;241;43m*\u001b[39;49m\u001b[38;5;241;43m*\u001b[39;49m\u001b[43mdynamic_kwargs\u001b[49m\u001b[43m)\u001b[49m\n\u001b[1;32m    387\u001b[0m \u001b[38;5;28;01mreturn\u001b[39;00m out\n",
      "File \u001b[0;32m~/Documents/GitHub/jax-md/jax_md/smap.py:257\u001b[0m, in \u001b[0;36mbond.<locals>.mapped_fn\u001b[0;34m(R, bonds, bond_types, **dynamic_kwargs)\u001b[0m\n\u001b[1;32m    254\u001b[0m accum \u001b[38;5;241m=\u001b[39m f32(\u001b[38;5;241m0\u001b[39m)\n\u001b[1;32m    256\u001b[0m \u001b[38;5;28;01mif\u001b[39;00m bonds \u001b[38;5;129;01mis\u001b[39;00m \u001b[38;5;129;01mnot\u001b[39;00m \u001b[38;5;28;01mNone\u001b[39;00m:\n\u001b[0;32m--> 257\u001b[0m   accum \u001b[38;5;241m=\u001b[39m accum \u001b[38;5;241m+\u001b[39m \u001b[43mcompute_fn\u001b[49m\u001b[43m(\u001b[49m\u001b[43mR\u001b[49m\u001b[43m,\u001b[49m\u001b[43m \u001b[49m\u001b[43mbonds\u001b[49m\u001b[43m,\u001b[49m\u001b[43m \u001b[49m\u001b[43mbond_types\u001b[49m\u001b[43m,\u001b[49m\u001b[43m \u001b[49m\u001b[43mkwargs\u001b[49m\u001b[43m,\u001b[49m\u001b[43m \u001b[49m\u001b[43mdynamic_kwargs\u001b[49m\u001b[43m)\u001b[49m\n\u001b[1;32m    259\u001b[0m \u001b[38;5;28;01mif\u001b[39;00m static_bonds \u001b[38;5;129;01mis\u001b[39;00m \u001b[38;5;129;01mnot\u001b[39;00m \u001b[38;5;28;01mNone\u001b[39;00m:\n\u001b[1;32m    260\u001b[0m   accum \u001b[38;5;241m=\u001b[39m accum \u001b[38;5;241m+\u001b[39m compute_fn(\n\u001b[1;32m    261\u001b[0m       R, static_bonds, static_bond_types, kwargs, dynamic_kwargs)\n",
      "File \u001b[0;32m~/Documents/GitHub/jax-md/jax_md/smap.py:243\u001b[0m, in \u001b[0;36mbond.<locals>.compute_fn\u001b[0;34m(R, bonds, bond_types, static_kwargs, dynamic_kwargs)\u001b[0m\n\u001b[1;32m    241\u001b[0m _kwargs \u001b[38;5;241m=\u001b[39m merge_dicts(static_kwargs, dynamic_kwargs)\n\u001b[1;32m    242\u001b[0m _kwargs \u001b[38;5;241m=\u001b[39m _kwargs_to_bond_parameters(bond_types, _kwargs)\n\u001b[0;32m--> 243\u001b[0m _args \u001b[38;5;241m=\u001b[39m \u001b[43mgeometry_handler_fn\u001b[49m\u001b[43m(\u001b[49m\u001b[43mR\u001b[49m\u001b[43m,\u001b[49m\u001b[43m \u001b[49m\u001b[43mbonds\u001b[49m\u001b[43m,\u001b[49m\u001b[43m \u001b[49m\u001b[38;5;241;43m*\u001b[39;49m\u001b[38;5;241;43m*\u001b[39;49m\u001b[43mgeometry_handler_kwargs\u001b[49m\u001b[43m)\u001b[49m\n\u001b[1;32m    244\u001b[0m outs \u001b[38;5;241m=\u001b[39m fn(\u001b[38;5;241m*\u001b[39m_args, \u001b[38;5;241m*\u001b[39m\u001b[38;5;241m*\u001b[39m_kwargs)\n\u001b[1;32m    245\u001b[0m \u001b[38;5;28;01mif\u001b[39;00m \u001b[38;5;129;01mnot\u001b[39;00m per_term:\n",
      "File \u001b[0;32m~/Documents/GitHub/jax-md/jax_md/mm.py:327\u001b[0m, in \u001b[0;36mget_bond_prereq_fns.<locals>.angle_handler_fn\u001b[0;34m(R, bonds, **_dynamic_kwargs)\u001b[0m\n\u001b[1;32m    326\u001b[0m \u001b[38;5;28;01mdef\u001b[39;00m \u001b[38;5;21mangle_handler_fn\u001b[39m(R: Array, bonds: Array, \u001b[38;5;241m*\u001b[39m\u001b[38;5;241m*\u001b[39m_dynamic_kwargs):\n\u001b[0;32m--> 327\u001b[0m   r1s, r2s, r3s \u001b[38;5;241m=\u001b[39m [R[bonds[:,i]] \u001b[38;5;28;01mfor\u001b[39;00m i \u001b[38;5;129;01min\u001b[39;00m \u001b[38;5;28mrange\u001b[39m(\u001b[38;5;241m3\u001b[39m)]\n\u001b[1;32m    328\u001b[0m   d \u001b[38;5;241m=\u001b[39m vmap(partial(displacement_fn, \u001b[38;5;241m*\u001b[39m\u001b[38;5;241m*\u001b[39m_dynamic_kwargs), \u001b[38;5;241m0\u001b[39m, \u001b[38;5;241m0\u001b[39m)\n\u001b[1;32m    329\u001b[0m   r21s, r23s \u001b[38;5;241m=\u001b[39m d(r1s, r2s), d(r3s, r2s)\n",
      "File \u001b[0;32m~/Documents/GitHub/jax-md/jax_md/mm.py:327\u001b[0m, in \u001b[0;36m<listcomp>\u001b[0;34m(.0)\u001b[0m\n\u001b[1;32m    326\u001b[0m \u001b[38;5;28;01mdef\u001b[39;00m \u001b[38;5;21mangle_handler_fn\u001b[39m(R: Array, bonds: Array, \u001b[38;5;241m*\u001b[39m\u001b[38;5;241m*\u001b[39m_dynamic_kwargs):\n\u001b[0;32m--> 327\u001b[0m   r1s, r2s, r3s \u001b[38;5;241m=\u001b[39m [R[\u001b[43mbonds\u001b[49m\u001b[43m[\u001b[49m\u001b[43m:\u001b[49m\u001b[43m,\u001b[49m\u001b[43mi\u001b[49m\u001b[43m]\u001b[49m] \u001b[38;5;28;01mfor\u001b[39;00m i \u001b[38;5;129;01min\u001b[39;00m \u001b[38;5;28mrange\u001b[39m(\u001b[38;5;241m3\u001b[39m)]\n\u001b[1;32m    328\u001b[0m   d \u001b[38;5;241m=\u001b[39m vmap(partial(displacement_fn, \u001b[38;5;241m*\u001b[39m\u001b[38;5;241m*\u001b[39m_dynamic_kwargs), \u001b[38;5;241m0\u001b[39m, \u001b[38;5;241m0\u001b[39m)\n\u001b[1;32m    329\u001b[0m   r21s, r23s \u001b[38;5;241m=\u001b[39m d(r1s, r2s), d(r3s, r2s)\n",
      "File \u001b[0;32m~/miniconda3/envs/espalomax/lib/python3.10/site-packages/jax/_src/numpy/lax_numpy.py:3624\u001b[0m, in \u001b[0;36m_rewriting_take\u001b[0;34m(arr, idx, indices_are_sorted, unique_indices, mode, fill_value)\u001b[0m\n\u001b[1;32m   3621\u001b[0m   \u001b[38;5;28;01mreturn\u001b[39;00m _getslice(arr, start, stop)\n\u001b[1;32m   3623\u001b[0m treedef, static_idx, dynamic_idx \u001b[38;5;241m=\u001b[39m _split_index_for_jit(idx, arr\u001b[38;5;241m.\u001b[39mshape)\n\u001b[0;32m-> 3624\u001b[0m \u001b[38;5;28;01mreturn\u001b[39;00m \u001b[43m_gather\u001b[49m\u001b[43m(\u001b[49m\u001b[43marr\u001b[49m\u001b[43m,\u001b[49m\u001b[43m \u001b[49m\u001b[43mtreedef\u001b[49m\u001b[43m,\u001b[49m\u001b[43m \u001b[49m\u001b[43mstatic_idx\u001b[49m\u001b[43m,\u001b[49m\u001b[43m \u001b[49m\u001b[43mdynamic_idx\u001b[49m\u001b[43m,\u001b[49m\u001b[43m \u001b[49m\u001b[43mindices_are_sorted\u001b[49m\u001b[43m,\u001b[49m\n\u001b[1;32m   3625\u001b[0m \u001b[43m               \u001b[49m\u001b[43munique_indices\u001b[49m\u001b[43m,\u001b[49m\u001b[43m \u001b[49m\u001b[43mmode\u001b[49m\u001b[43m,\u001b[49m\u001b[43m \u001b[49m\u001b[43mfill_value\u001b[49m\u001b[43m)\u001b[49m\n",
      "File \u001b[0;32m~/miniconda3/envs/espalomax/lib/python3.10/site-packages/jax/_src/numpy/lax_numpy.py:3633\u001b[0m, in \u001b[0;36m_gather\u001b[0;34m(arr, treedef, static_idx, dynamic_idx, indices_are_sorted, unique_indices, mode, fill_value)\u001b[0m\n\u001b[1;32m   3630\u001b[0m \u001b[38;5;28;01mdef\u001b[39;00m \u001b[38;5;21m_gather\u001b[39m(arr, treedef, static_idx, dynamic_idx, indices_are_sorted,\n\u001b[1;32m   3631\u001b[0m             unique_indices, mode, fill_value):\n\u001b[1;32m   3632\u001b[0m   idx \u001b[38;5;241m=\u001b[39m _merge_static_and_dynamic_indices(treedef, static_idx, dynamic_idx)\n\u001b[0;32m-> 3633\u001b[0m   indexer \u001b[38;5;241m=\u001b[39m \u001b[43m_index_to_gather\u001b[49m\u001b[43m(\u001b[49m\u001b[43mshape\u001b[49m\u001b[43m(\u001b[49m\u001b[43marr\u001b[49m\u001b[43m)\u001b[49m\u001b[43m,\u001b[49m\u001b[43m \u001b[49m\u001b[43midx\u001b[49m\u001b[43m)\u001b[49m  \u001b[38;5;66;03m# shared with _scatter_update\u001b[39;00m\n\u001b[1;32m   3634\u001b[0m   y \u001b[38;5;241m=\u001b[39m arr\n\u001b[1;32m   3636\u001b[0m   \u001b[38;5;28;01mif\u001b[39;00m fill_value \u001b[38;5;129;01mis\u001b[39;00m \u001b[38;5;129;01mnot\u001b[39;00m \u001b[38;5;28;01mNone\u001b[39;00m:\n",
      "File \u001b[0;32m~/miniconda3/envs/espalomax/lib/python3.10/site-packages/jax/_src/numpy/lax_numpy.py:3734\u001b[0m, in \u001b[0;36m_index_to_gather\u001b[0;34m(x_shape, idx, normalize_indices)\u001b[0m\n\u001b[1;32m   3732\u001b[0m \u001b[38;5;28;01mdef\u001b[39;00m \u001b[38;5;21m_index_to_gather\u001b[39m(x_shape, idx, normalize_indices\u001b[38;5;241m=\u001b[39m\u001b[38;5;28;01mTrue\u001b[39;00m):\n\u001b[1;32m   3733\u001b[0m   \u001b[38;5;66;03m# Remove ellipses and add trailing slice(None)s.\u001b[39;00m\n\u001b[0;32m-> 3734\u001b[0m   idx \u001b[38;5;241m=\u001b[39m \u001b[43m_canonicalize_tuple_index\u001b[49m\u001b[43m(\u001b[49m\u001b[38;5;28;43mlen\u001b[39;49m\u001b[43m(\u001b[49m\u001b[43mx_shape\u001b[49m\u001b[43m)\u001b[49m\u001b[43m,\u001b[49m\u001b[43m \u001b[49m\u001b[43midx\u001b[49m\u001b[43m)\u001b[49m\n\u001b[1;32m   3736\u001b[0m   \u001b[38;5;66;03m# Check for advanced indexing:\u001b[39;00m\n\u001b[1;32m   3737\u001b[0m   \u001b[38;5;66;03m# https://docs.scipy.org/doc/numpy/reference/arrays.indexing.html#advanced-indexing\u001b[39;00m\n\u001b[1;32m   3738\u001b[0m \n\u001b[1;32m   3739\u001b[0m   \u001b[38;5;66;03m# Do the advanced indexing axes appear contiguously? If not, NumPy semantics\u001b[39;00m\n\u001b[1;32m   3740\u001b[0m   \u001b[38;5;66;03m# move the advanced axes to the front.\u001b[39;00m\n\u001b[1;32m   3741\u001b[0m   advanced_axes_are_contiguous \u001b[38;5;241m=\u001b[39m \u001b[38;5;28;01mFalse\u001b[39;00m\n",
      "File \u001b[0;32m~/miniconda3/envs/espalomax/lib/python3.10/site-packages/jax/_src/numpy/lax_numpy.py:4067\u001b[0m, in \u001b[0;36m_canonicalize_tuple_index\u001b[0;34m(arr_ndim, idx, array_name)\u001b[0m\n\u001b[1;32m   4065\u001b[0m len_without_none \u001b[38;5;241m=\u001b[39m _sum(\u001b[38;5;241m1\u001b[39m \u001b[38;5;28;01mfor\u001b[39;00m e \u001b[38;5;129;01min\u001b[39;00m idx \u001b[38;5;28;01mif\u001b[39;00m e \u001b[38;5;129;01mis\u001b[39;00m \u001b[38;5;129;01mnot\u001b[39;00m \u001b[38;5;28;01mNone\u001b[39;00m \u001b[38;5;129;01mand\u001b[39;00m e \u001b[38;5;129;01mis\u001b[39;00m \u001b[38;5;129;01mnot\u001b[39;00m \u001b[38;5;28mEllipsis\u001b[39m)\n\u001b[1;32m   4066\u001b[0m \u001b[38;5;28;01mif\u001b[39;00m len_without_none \u001b[38;5;241m>\u001b[39m arr_ndim:\n\u001b[0;32m-> 4067\u001b[0m   \u001b[38;5;28;01mraise\u001b[39;00m \u001b[38;5;167;01mIndexError\u001b[39;00m(\n\u001b[1;32m   4068\u001b[0m       \u001b[38;5;124mf\u001b[39m\u001b[38;5;124m\"\u001b[39m\u001b[38;5;124mToo many indices for \u001b[39m\u001b[38;5;132;01m{\u001b[39;00marray_name\u001b[38;5;132;01m}\u001b[39;00m\u001b[38;5;124m: \u001b[39m\u001b[38;5;132;01m{\u001b[39;00mlen_without_none\u001b[38;5;132;01m}\u001b[39;00m\u001b[38;5;124m \u001b[39m\u001b[38;5;124m\"\u001b[39m\n\u001b[1;32m   4069\u001b[0m       \u001b[38;5;124mf\u001b[39m\u001b[38;5;124m\"\u001b[39m\u001b[38;5;124mnon-None/Ellipsis indices for dim \u001b[39m\u001b[38;5;132;01m{\u001b[39;00marr_ndim\u001b[38;5;132;01m}\u001b[39;00m\u001b[38;5;124m.\u001b[39m\u001b[38;5;124m\"\u001b[39m)\n\u001b[1;32m   4070\u001b[0m ellipses \u001b[38;5;241m=\u001b[39m (i \u001b[38;5;28;01mfor\u001b[39;00m i, elt \u001b[38;5;129;01min\u001b[39;00m \u001b[38;5;28menumerate\u001b[39m(idx) \u001b[38;5;28;01mif\u001b[39;00m elt \u001b[38;5;129;01mis\u001b[39;00m \u001b[38;5;28mEllipsis\u001b[39m)\n\u001b[1;32m   4071\u001b[0m ellipsis_index \u001b[38;5;241m=\u001b[39m \u001b[38;5;28mnext\u001b[39m(ellipses, \u001b[38;5;28;01mNone\u001b[39;00m)\n",
      "\u001b[0;31mIndexError\u001b[0m: Too many indices for array: 2 non-None/Ellipsis indices for dim 1."
     ]
    }
   ],
   "source": [
    "energy_fn(x)"
   ]
  },
  {
   "cell_type": "code",
   "execution_count": 47,
   "id": "50292ac3",
   "metadata": {},
   "outputs": [
    {
     "ename": "IndexError",
     "evalue": "Too many indices for array: 2 non-None/Ellipsis indices for dim 1.",
     "output_type": "error",
     "traceback": [
      "\u001b[0;31m---------------------------------------------------------------------------\u001b[0m",
      "\u001b[0;31mIndexError\u001b[0m                                Traceback (most recent call last)",
      "Input \u001b[0;32mIn [47]\u001b[0m, in \u001b[0;36m<cell line: 5>\u001b[0;34m()\u001b[0m\n\u001b[1;32m      3\u001b[0m dt \u001b[38;5;241m=\u001b[39m \u001b[38;5;241m1e-3\u001b[39m\n\u001b[1;32m      4\u001b[0m init, update \u001b[38;5;241m=\u001b[39m simulate\u001b[38;5;241m.\u001b[39mnvt_nose_hoover(energy_fn, shift_fn, dt, temperature)\n\u001b[0;32m----> 5\u001b[0m state \u001b[38;5;241m=\u001b[39m \u001b[43minit\u001b[49m\u001b[43m(\u001b[49m\u001b[43mjax\u001b[49m\u001b[38;5;241;43m.\u001b[39;49m\u001b[43mrandom\u001b[49m\u001b[38;5;241;43m.\u001b[39;49m\u001b[43mPRNGKey\u001b[49m\u001b[43m(\u001b[49m\u001b[38;5;241;43m2666\u001b[39;49m\u001b[43m)\u001b[49m\u001b[43m,\u001b[49m\u001b[43m \u001b[49m\u001b[43mx\u001b[49m\u001b[43m)\u001b[49m\n",
      "    \u001b[0;31m[... skipping hidden 14 frame]\u001b[0m\n",
      "File \u001b[0;32m~/Documents/GitHub/jax-md/jax_md/simulate.py:584\u001b[0m, in \u001b[0;36mnvt_nose_hoover.<locals>.init_fn\u001b[0;34m(key, R, mass, **kwargs)\u001b[0m\n\u001b[1;32m    582\u001b[0m KE \u001b[38;5;241m=\u001b[39m kinetic_energy(R, P, mass)\n\u001b[1;32m    583\u001b[0m dof \u001b[38;5;241m=\u001b[39m quantity\u001b[38;5;241m.\u001b[39mcount_dof(R)\n\u001b[0;32m--> 584\u001b[0m \u001b[38;5;28;01mreturn\u001b[39;00m NVTNoseHooverState(R, P, \u001b[43mforce_fn\u001b[49m\u001b[43m(\u001b[49m\u001b[43mR\u001b[49m\u001b[43m,\u001b[49m\u001b[43m \u001b[49m\u001b[38;5;241;43m*\u001b[39;49m\u001b[38;5;241;43m*\u001b[39;49m\u001b[43mkwargs\u001b[49m\u001b[43m)\u001b[49m, mass,\n\u001b[1;32m    585\u001b[0m                           chain_fns\u001b[38;5;241m.\u001b[39minitialize(dof, KE, _kT))\n",
      "File \u001b[0;32m~/Documents/GitHub/jax-md/jax_md/quantity.py:81\u001b[0m, in \u001b[0;36mcanonicalize_force.<locals>.force_fn\u001b[0;34m(R, **kwargs)\u001b[0m\n\u001b[1;32m     79\u001b[0m \u001b[38;5;28;01mnonlocal\u001b[39;00m _force_fn\n\u001b[1;32m     80\u001b[0m \u001b[38;5;28;01mif\u001b[39;00m _force_fn \u001b[38;5;129;01mis\u001b[39;00m \u001b[38;5;28;01mNone\u001b[39;00m:\n\u001b[0;32m---> 81\u001b[0m   out_shaped \u001b[38;5;241m=\u001b[39m \u001b[43meval_shape\u001b[49m\u001b[43m(\u001b[49m\u001b[43menergy_or_force_fn\u001b[49m\u001b[43m,\u001b[49m\u001b[43m \u001b[49m\u001b[43mR\u001b[49m\u001b[43m,\u001b[49m\u001b[43m \u001b[49m\u001b[38;5;241;43m*\u001b[39;49m\u001b[38;5;241;43m*\u001b[39;49m\u001b[43mkwargs\u001b[49m\u001b[43m)\u001b[49m\n\u001b[1;32m     82\u001b[0m   \u001b[38;5;28;01mif\u001b[39;00m \u001b[38;5;28misinstance\u001b[39m(out_shaped, ShapeDtypeStruct) \u001b[38;5;129;01mand\u001b[39;00m out_shaped\u001b[38;5;241m.\u001b[39mshape \u001b[38;5;241m==\u001b[39m ():\n\u001b[1;32m     83\u001b[0m     _force_fn \u001b[38;5;241m=\u001b[39m force(energy_or_force_fn)\n",
      "    \u001b[0;31m[... skipping hidden 7 frame]\u001b[0m\n",
      "File \u001b[0;32m~/Documents/GitHub/jax-md/jax_md/mm.py:628\u001b[0m, in \u001b[0;36mmm_energy_fn.<locals>.energy_fn\u001b[0;34m(R, **dynamic_kwargs)\u001b[0m\n\u001b[1;32m    604\u001b[0m \u001b[38;5;124;03m\"\"\"\u001b[39;00m\n\u001b[1;32m    605\u001b[0m \u001b[38;5;124;03mcompute the molecular mechanics type energy.\u001b[39;00m\n\u001b[1;32m    606\u001b[0m \u001b[38;5;124;03mArgs:\u001b[39;00m\n\u001b[0;32m   (...)\u001b[0m\n\u001b[1;32m    624\u001b[0m \n\u001b[1;32m    625\u001b[0m \u001b[38;5;124;03m\"\"\"\u001b[39;00m\n\u001b[1;32m    626\u001b[0m mm_parameters \u001b[38;5;241m=\u001b[39m dynamic_kwargs\u001b[38;5;241m.\u001b[39mget(\u001b[38;5;124m'\u001b[39m\u001b[38;5;124mparameters\u001b[39m\u001b[38;5;124m'\u001b[39m,\n\u001b[1;32m    627\u001b[0m                                      default_mm_parameters)\n\u001b[0;32m--> 628\u001b[0m energies \u001b[38;5;241m=\u001b[39m \u001b[43mjax\u001b[49m\u001b[38;5;241;43m.\u001b[39;49m\u001b[43mtree_util\u001b[49m\u001b[38;5;241;43m.\u001b[39;49m\u001b[43mtree_map\u001b[49m\u001b[43m(\u001b[49m\u001b[38;5;28;43;01mlambda\u001b[39;49;00m\u001b[43m \u001b[49m\u001b[43me_fn\u001b[49m\u001b[43m:\u001b[49m\n\u001b[1;32m    629\u001b[0m \u001b[43m                                    \u001b[49m\u001b[43me_fn\u001b[49m\u001b[43m(\u001b[49m\u001b[43mR\u001b[49m\u001b[43m,\u001b[49m\n\u001b[1;32m    630\u001b[0m \u001b[43m                                    \u001b[49m\u001b[43mparent_parameters_dict\u001b[49m\u001b[38;5;241;43m=\u001b[39;49m\u001b[43m\\\u001b[49m\n\u001b[1;32m    631\u001b[0m \u001b[43m                                        \u001b[49m\u001b[38;5;28;43mdict\u001b[39;49m\u001b[43m(\u001b[49m\u001b[43mmm_parameters\u001b[49m\u001b[38;5;241;43m.\u001b[39;49m\u001b[43m_asdict\u001b[49m\u001b[43m(\u001b[49m\u001b[43m)\u001b[49m\u001b[43m)\u001b[49m\u001b[43m,\u001b[49m\n\u001b[1;32m    632\u001b[0m \u001b[43m                                    \u001b[49m\u001b[38;5;241;43m*\u001b[39;49m\u001b[38;5;241;43m*\u001b[39;49m\u001b[43mdynamic_kwargs\u001b[49m\u001b[43m)\u001b[49m\u001b[43m,\u001b[49m\n\u001b[1;32m    633\u001b[0m \u001b[43m                        \u001b[49m\u001b[43mmm_energy_fns\u001b[49m\u001b[43m)\u001b[49m\n\u001b[1;32m    634\u001b[0m \u001b[38;5;66;03m# do we want to return a dict or a singular float?\u001b[39;00m\n\u001b[1;32m    635\u001b[0m accum \u001b[38;5;241m=\u001b[39m f32(\u001b[38;5;241m0\u001b[39m)\n",
      "    \u001b[0;31m[... skipping hidden 2 frame]\u001b[0m\n",
      "File \u001b[0;32m~/Documents/GitHub/jax-md/jax_md/mm.py:629\u001b[0m, in \u001b[0;36mmm_energy_fn.<locals>.energy_fn.<locals>.<lambda>\u001b[0;34m(e_fn)\u001b[0m\n\u001b[1;32m    604\u001b[0m \u001b[38;5;124;03m\"\"\"\u001b[39;00m\n\u001b[1;32m    605\u001b[0m \u001b[38;5;124;03mcompute the molecular mechanics type energy.\u001b[39;00m\n\u001b[1;32m    606\u001b[0m \u001b[38;5;124;03mArgs:\u001b[39;00m\n\u001b[0;32m   (...)\u001b[0m\n\u001b[1;32m    624\u001b[0m \n\u001b[1;32m    625\u001b[0m \u001b[38;5;124;03m\"\"\"\u001b[39;00m\n\u001b[1;32m    626\u001b[0m mm_parameters \u001b[38;5;241m=\u001b[39m dynamic_kwargs\u001b[38;5;241m.\u001b[39mget(\u001b[38;5;124m'\u001b[39m\u001b[38;5;124mparameters\u001b[39m\u001b[38;5;124m'\u001b[39m,\n\u001b[1;32m    627\u001b[0m                                      default_mm_parameters)\n\u001b[1;32m    628\u001b[0m energies \u001b[38;5;241m=\u001b[39m jax\u001b[38;5;241m.\u001b[39mtree_util\u001b[38;5;241m.\u001b[39mtree_map(\u001b[38;5;28;01mlambda\u001b[39;00m e_fn:\n\u001b[0;32m--> 629\u001b[0m                                     \u001b[43me_fn\u001b[49m\u001b[43m(\u001b[49m\u001b[43mR\u001b[49m\u001b[43m,\u001b[49m\n\u001b[1;32m    630\u001b[0m \u001b[43m                                    \u001b[49m\u001b[43mparent_parameters_dict\u001b[49m\u001b[38;5;241;43m=\u001b[39;49m\u001b[43m\\\u001b[49m\n\u001b[1;32m    631\u001b[0m \u001b[43m                                        \u001b[49m\u001b[38;5;28;43mdict\u001b[39;49m\u001b[43m(\u001b[49m\u001b[43mmm_parameters\u001b[49m\u001b[38;5;241;43m.\u001b[39;49m\u001b[43m_asdict\u001b[49m\u001b[43m(\u001b[49m\u001b[43m)\u001b[49m\u001b[43m)\u001b[49m\u001b[43m,\u001b[49m\n\u001b[1;32m    632\u001b[0m \u001b[43m                                    \u001b[49m\u001b[38;5;241;43m*\u001b[39;49m\u001b[38;5;241;43m*\u001b[39;49m\u001b[43mdynamic_kwargs\u001b[49m\u001b[43m)\u001b[49m,\n\u001b[1;32m    633\u001b[0m                         mm_energy_fns)\n\u001b[1;32m    634\u001b[0m \u001b[38;5;66;03m# do we want to return a dict or a singular float?\u001b[39;00m\n\u001b[1;32m    635\u001b[0m accum \u001b[38;5;241m=\u001b[39m f32(\u001b[38;5;241m0\u001b[39m)\n",
      "File \u001b[0;32m~/Documents/GitHub/jax-md/jax_md/mm.py:394\u001b[0m, in \u001b[0;36mbonded_energy_handler.<locals>.wrapped_energy_fn\u001b[0;34m(R, parent_parameters_dict, **dynamic_kwargs)\u001b[0m\n\u001b[1;32m    389\u001b[0m \u001b[38;5;28;01mdef\u001b[39;00m \u001b[38;5;21mwrapped_energy_fn\u001b[39m(R: Array,\n\u001b[1;32m    390\u001b[0m                       parent_parameters_dict,\n\u001b[1;32m    391\u001b[0m                       \u001b[38;5;241m*\u001b[39m\u001b[38;5;241m*\u001b[39mdynamic_kwargs):\n\u001b[1;32m    392\u001b[0m     energy_specific_parameters \u001b[38;5;241m=\u001b[39m \\\n\u001b[1;32m    393\u001b[0m         parent_parameters_dict\u001b[38;5;241m.\u001b[39mget(snake_parameter_name, default_parameters)\n\u001b[0;32m--> 394\u001b[0m     \u001b[38;5;28;01mreturn\u001b[39;00m \u001b[43menergy_fn\u001b[49m\u001b[43m(\u001b[49m\u001b[43mR\u001b[49m\u001b[43m,\u001b[49m\u001b[43m \u001b[49m\u001b[43menergy_specific_parameters\u001b[49m\u001b[43m,\u001b[49m\u001b[43m \u001b[49m\u001b[38;5;241;43m*\u001b[39;49m\u001b[38;5;241;43m*\u001b[39;49m\u001b[43mdynamic_kwargs\u001b[49m\u001b[43m)\u001b[49m\n",
      "File \u001b[0;32m~/Documents/GitHub/jax-md/jax_md/mm.py:386\u001b[0m, in \u001b[0;36mbonded_energy_handler.<locals>.energy_fn\u001b[0;34m(R, parameters, **dynamic_kwargs)\u001b[0m\n\u001b[1;32m    384\u001b[0m bond_types \u001b[38;5;241m=\u001b[39m \u001b[38;5;28mdict\u001b[39m(parameters\u001b[38;5;241m.\u001b[39m_asdict())\n\u001b[1;32m    385\u001b[0m _ \u001b[38;5;241m=\u001b[39m bond_types\u001b[38;5;241m.\u001b[39mpop(\u001b[38;5;124m'\u001b[39m\u001b[38;5;124mparticles\u001b[39m\u001b[38;5;124m'\u001b[39m) \u001b[38;5;66;03m# remove for redundancy\u001b[39;00m\n\u001b[0;32m--> 386\u001b[0m out \u001b[38;5;241m=\u001b[39m \u001b[43mbond_fn\u001b[49m\u001b[43m(\u001b[49m\u001b[43mR\u001b[49m\u001b[43m,\u001b[49m\u001b[43m \u001b[49m\u001b[43mbonds\u001b[49m\u001b[43m,\u001b[49m\u001b[43m \u001b[49m\u001b[43mbond_types\u001b[49m\u001b[43m,\u001b[49m\u001b[43m \u001b[49m\u001b[38;5;241;43m*\u001b[39;49m\u001b[38;5;241;43m*\u001b[39;49m\u001b[43mdynamic_kwargs\u001b[49m\u001b[43m)\u001b[49m\n\u001b[1;32m    387\u001b[0m \u001b[38;5;28;01mreturn\u001b[39;00m out\n",
      "File \u001b[0;32m~/Documents/GitHub/jax-md/jax_md/smap.py:257\u001b[0m, in \u001b[0;36mbond.<locals>.mapped_fn\u001b[0;34m(R, bonds, bond_types, **dynamic_kwargs)\u001b[0m\n\u001b[1;32m    254\u001b[0m accum \u001b[38;5;241m=\u001b[39m f32(\u001b[38;5;241m0\u001b[39m)\n\u001b[1;32m    256\u001b[0m \u001b[38;5;28;01mif\u001b[39;00m bonds \u001b[38;5;129;01mis\u001b[39;00m \u001b[38;5;129;01mnot\u001b[39;00m \u001b[38;5;28;01mNone\u001b[39;00m:\n\u001b[0;32m--> 257\u001b[0m   accum \u001b[38;5;241m=\u001b[39m accum \u001b[38;5;241m+\u001b[39m \u001b[43mcompute_fn\u001b[49m\u001b[43m(\u001b[49m\u001b[43mR\u001b[49m\u001b[43m,\u001b[49m\u001b[43m \u001b[49m\u001b[43mbonds\u001b[49m\u001b[43m,\u001b[49m\u001b[43m \u001b[49m\u001b[43mbond_types\u001b[49m\u001b[43m,\u001b[49m\u001b[43m \u001b[49m\u001b[43mkwargs\u001b[49m\u001b[43m,\u001b[49m\u001b[43m \u001b[49m\u001b[43mdynamic_kwargs\u001b[49m\u001b[43m)\u001b[49m\n\u001b[1;32m    259\u001b[0m \u001b[38;5;28;01mif\u001b[39;00m static_bonds \u001b[38;5;129;01mis\u001b[39;00m \u001b[38;5;129;01mnot\u001b[39;00m \u001b[38;5;28;01mNone\u001b[39;00m:\n\u001b[1;32m    260\u001b[0m   accum \u001b[38;5;241m=\u001b[39m accum \u001b[38;5;241m+\u001b[39m compute_fn(\n\u001b[1;32m    261\u001b[0m       R, static_bonds, static_bond_types, kwargs, dynamic_kwargs)\n",
      "File \u001b[0;32m~/Documents/GitHub/jax-md/jax_md/smap.py:243\u001b[0m, in \u001b[0;36mbond.<locals>.compute_fn\u001b[0;34m(R, bonds, bond_types, static_kwargs, dynamic_kwargs)\u001b[0m\n\u001b[1;32m    241\u001b[0m _kwargs \u001b[38;5;241m=\u001b[39m merge_dicts(static_kwargs, dynamic_kwargs)\n\u001b[1;32m    242\u001b[0m _kwargs \u001b[38;5;241m=\u001b[39m _kwargs_to_bond_parameters(bond_types, _kwargs)\n\u001b[0;32m--> 243\u001b[0m _args \u001b[38;5;241m=\u001b[39m \u001b[43mgeometry_handler_fn\u001b[49m\u001b[43m(\u001b[49m\u001b[43mR\u001b[49m\u001b[43m,\u001b[49m\u001b[43m \u001b[49m\u001b[43mbonds\u001b[49m\u001b[43m,\u001b[49m\u001b[43m \u001b[49m\u001b[38;5;241;43m*\u001b[39;49m\u001b[38;5;241;43m*\u001b[39;49m\u001b[43mgeometry_handler_kwargs\u001b[49m\u001b[43m)\u001b[49m\n\u001b[1;32m    244\u001b[0m outs \u001b[38;5;241m=\u001b[39m fn(\u001b[38;5;241m*\u001b[39m_args, \u001b[38;5;241m*\u001b[39m\u001b[38;5;241m*\u001b[39m_kwargs)\n\u001b[1;32m    245\u001b[0m \u001b[38;5;28;01mif\u001b[39;00m \u001b[38;5;129;01mnot\u001b[39;00m per_term:\n",
      "File \u001b[0;32m~/Documents/GitHub/jax-md/jax_md/mm.py:334\u001b[0m, in \u001b[0;36mget_bond_prereq_fns.<locals>.torsion_handler_fn\u001b[0;34m(R, bonds, **_dynamic_kwargs)\u001b[0m\n\u001b[1;32m    333\u001b[0m \u001b[38;5;28;01mdef\u001b[39;00m \u001b[38;5;21mtorsion_handler_fn\u001b[39m(R: Array, bonds: Array, \u001b[38;5;241m*\u001b[39m\u001b[38;5;241m*\u001b[39m_dynamic_kwargs):\n\u001b[0;32m--> 334\u001b[0m   r1s, r2s, r3s, r4s \u001b[38;5;241m=\u001b[39m [R[bonds[:,i]] \u001b[38;5;28;01mfor\u001b[39;00m i \u001b[38;5;129;01min\u001b[39;00m \u001b[38;5;28mrange\u001b[39m(\u001b[38;5;241m4\u001b[39m)]\n\u001b[1;32m    335\u001b[0m   d \u001b[38;5;241m=\u001b[39m vmap(partial(displacement_fn, \u001b[38;5;241m*\u001b[39m\u001b[38;5;241m*\u001b[39m_dynamic_kwargs), \u001b[38;5;241m0\u001b[39m, \u001b[38;5;241m0\u001b[39m)\n\u001b[1;32m    336\u001b[0m   dR_12s, dR_32s, dR_34s \u001b[38;5;241m=\u001b[39m d(r2s, r1s), d(r2s, r3s), d(r4s, r3s)\n",
      "File \u001b[0;32m~/Documents/GitHub/jax-md/jax_md/mm.py:334\u001b[0m, in \u001b[0;36m<listcomp>\u001b[0;34m(.0)\u001b[0m\n\u001b[1;32m    333\u001b[0m \u001b[38;5;28;01mdef\u001b[39;00m \u001b[38;5;21mtorsion_handler_fn\u001b[39m(R: Array, bonds: Array, \u001b[38;5;241m*\u001b[39m\u001b[38;5;241m*\u001b[39m_dynamic_kwargs):\n\u001b[0;32m--> 334\u001b[0m   r1s, r2s, r3s, r4s \u001b[38;5;241m=\u001b[39m [R[\u001b[43mbonds\u001b[49m\u001b[43m[\u001b[49m\u001b[43m:\u001b[49m\u001b[43m,\u001b[49m\u001b[43mi\u001b[49m\u001b[43m]\u001b[49m] \u001b[38;5;28;01mfor\u001b[39;00m i \u001b[38;5;129;01min\u001b[39;00m \u001b[38;5;28mrange\u001b[39m(\u001b[38;5;241m4\u001b[39m)]\n\u001b[1;32m    335\u001b[0m   d \u001b[38;5;241m=\u001b[39m vmap(partial(displacement_fn, \u001b[38;5;241m*\u001b[39m\u001b[38;5;241m*\u001b[39m_dynamic_kwargs), \u001b[38;5;241m0\u001b[39m, \u001b[38;5;241m0\u001b[39m)\n\u001b[1;32m    336\u001b[0m   dR_12s, dR_32s, dR_34s \u001b[38;5;241m=\u001b[39m d(r2s, r1s), d(r2s, r3s), d(r4s, r3s)\n",
      "File \u001b[0;32m~/miniconda3/envs/espalomax/lib/python3.10/site-packages/jax/_src/numpy/lax_numpy.py:3624\u001b[0m, in \u001b[0;36m_rewriting_take\u001b[0;34m(arr, idx, indices_are_sorted, unique_indices, mode, fill_value)\u001b[0m\n\u001b[1;32m   3621\u001b[0m   \u001b[38;5;28;01mreturn\u001b[39;00m _getslice(arr, start, stop)\n\u001b[1;32m   3623\u001b[0m treedef, static_idx, dynamic_idx \u001b[38;5;241m=\u001b[39m _split_index_for_jit(idx, arr\u001b[38;5;241m.\u001b[39mshape)\n\u001b[0;32m-> 3624\u001b[0m \u001b[38;5;28;01mreturn\u001b[39;00m \u001b[43m_gather\u001b[49m\u001b[43m(\u001b[49m\u001b[43marr\u001b[49m\u001b[43m,\u001b[49m\u001b[43m \u001b[49m\u001b[43mtreedef\u001b[49m\u001b[43m,\u001b[49m\u001b[43m \u001b[49m\u001b[43mstatic_idx\u001b[49m\u001b[43m,\u001b[49m\u001b[43m \u001b[49m\u001b[43mdynamic_idx\u001b[49m\u001b[43m,\u001b[49m\u001b[43m \u001b[49m\u001b[43mindices_are_sorted\u001b[49m\u001b[43m,\u001b[49m\n\u001b[1;32m   3625\u001b[0m \u001b[43m               \u001b[49m\u001b[43munique_indices\u001b[49m\u001b[43m,\u001b[49m\u001b[43m \u001b[49m\u001b[43mmode\u001b[49m\u001b[43m,\u001b[49m\u001b[43m \u001b[49m\u001b[43mfill_value\u001b[49m\u001b[43m)\u001b[49m\n",
      "File \u001b[0;32m~/miniconda3/envs/espalomax/lib/python3.10/site-packages/jax/_src/numpy/lax_numpy.py:3633\u001b[0m, in \u001b[0;36m_gather\u001b[0;34m(arr, treedef, static_idx, dynamic_idx, indices_are_sorted, unique_indices, mode, fill_value)\u001b[0m\n\u001b[1;32m   3630\u001b[0m \u001b[38;5;28;01mdef\u001b[39;00m \u001b[38;5;21m_gather\u001b[39m(arr, treedef, static_idx, dynamic_idx, indices_are_sorted,\n\u001b[1;32m   3631\u001b[0m             unique_indices, mode, fill_value):\n\u001b[1;32m   3632\u001b[0m   idx \u001b[38;5;241m=\u001b[39m _merge_static_and_dynamic_indices(treedef, static_idx, dynamic_idx)\n\u001b[0;32m-> 3633\u001b[0m   indexer \u001b[38;5;241m=\u001b[39m \u001b[43m_index_to_gather\u001b[49m\u001b[43m(\u001b[49m\u001b[43mshape\u001b[49m\u001b[43m(\u001b[49m\u001b[43marr\u001b[49m\u001b[43m)\u001b[49m\u001b[43m,\u001b[49m\u001b[43m \u001b[49m\u001b[43midx\u001b[49m\u001b[43m)\u001b[49m  \u001b[38;5;66;03m# shared with _scatter_update\u001b[39;00m\n\u001b[1;32m   3634\u001b[0m   y \u001b[38;5;241m=\u001b[39m arr\n\u001b[1;32m   3636\u001b[0m   \u001b[38;5;28;01mif\u001b[39;00m fill_value \u001b[38;5;129;01mis\u001b[39;00m \u001b[38;5;129;01mnot\u001b[39;00m \u001b[38;5;28;01mNone\u001b[39;00m:\n",
      "File \u001b[0;32m~/miniconda3/envs/espalomax/lib/python3.10/site-packages/jax/_src/numpy/lax_numpy.py:3734\u001b[0m, in \u001b[0;36m_index_to_gather\u001b[0;34m(x_shape, idx, normalize_indices)\u001b[0m\n\u001b[1;32m   3732\u001b[0m \u001b[38;5;28;01mdef\u001b[39;00m \u001b[38;5;21m_index_to_gather\u001b[39m(x_shape, idx, normalize_indices\u001b[38;5;241m=\u001b[39m\u001b[38;5;28;01mTrue\u001b[39;00m):\n\u001b[1;32m   3733\u001b[0m   \u001b[38;5;66;03m# Remove ellipses and add trailing slice(None)s.\u001b[39;00m\n\u001b[0;32m-> 3734\u001b[0m   idx \u001b[38;5;241m=\u001b[39m \u001b[43m_canonicalize_tuple_index\u001b[49m\u001b[43m(\u001b[49m\u001b[38;5;28;43mlen\u001b[39;49m\u001b[43m(\u001b[49m\u001b[43mx_shape\u001b[49m\u001b[43m)\u001b[49m\u001b[43m,\u001b[49m\u001b[43m \u001b[49m\u001b[43midx\u001b[49m\u001b[43m)\u001b[49m\n\u001b[1;32m   3736\u001b[0m   \u001b[38;5;66;03m# Check for advanced indexing:\u001b[39;00m\n\u001b[1;32m   3737\u001b[0m   \u001b[38;5;66;03m# https://docs.scipy.org/doc/numpy/reference/arrays.indexing.html#advanced-indexing\u001b[39;00m\n\u001b[1;32m   3738\u001b[0m \n\u001b[1;32m   3739\u001b[0m   \u001b[38;5;66;03m# Do the advanced indexing axes appear contiguously? If not, NumPy semantics\u001b[39;00m\n\u001b[1;32m   3740\u001b[0m   \u001b[38;5;66;03m# move the advanced axes to the front.\u001b[39;00m\n\u001b[1;32m   3741\u001b[0m   advanced_axes_are_contiguous \u001b[38;5;241m=\u001b[39m \u001b[38;5;28;01mFalse\u001b[39;00m\n",
      "File \u001b[0;32m~/miniconda3/envs/espalomax/lib/python3.10/site-packages/jax/_src/numpy/lax_numpy.py:4067\u001b[0m, in \u001b[0;36m_canonicalize_tuple_index\u001b[0;34m(arr_ndim, idx, array_name)\u001b[0m\n\u001b[1;32m   4065\u001b[0m len_without_none \u001b[38;5;241m=\u001b[39m _sum(\u001b[38;5;241m1\u001b[39m \u001b[38;5;28;01mfor\u001b[39;00m e \u001b[38;5;129;01min\u001b[39;00m idx \u001b[38;5;28;01mif\u001b[39;00m e \u001b[38;5;129;01mis\u001b[39;00m \u001b[38;5;129;01mnot\u001b[39;00m \u001b[38;5;28;01mNone\u001b[39;00m \u001b[38;5;129;01mand\u001b[39;00m e \u001b[38;5;129;01mis\u001b[39;00m \u001b[38;5;129;01mnot\u001b[39;00m \u001b[38;5;28mEllipsis\u001b[39m)\n\u001b[1;32m   4066\u001b[0m \u001b[38;5;28;01mif\u001b[39;00m len_without_none \u001b[38;5;241m>\u001b[39m arr_ndim:\n\u001b[0;32m-> 4067\u001b[0m   \u001b[38;5;28;01mraise\u001b[39;00m \u001b[38;5;167;01mIndexError\u001b[39;00m(\n\u001b[1;32m   4068\u001b[0m       \u001b[38;5;124mf\u001b[39m\u001b[38;5;124m\"\u001b[39m\u001b[38;5;124mToo many indices for \u001b[39m\u001b[38;5;132;01m{\u001b[39;00marray_name\u001b[38;5;132;01m}\u001b[39;00m\u001b[38;5;124m: \u001b[39m\u001b[38;5;132;01m{\u001b[39;00mlen_without_none\u001b[38;5;132;01m}\u001b[39;00m\u001b[38;5;124m \u001b[39m\u001b[38;5;124m\"\u001b[39m\n\u001b[1;32m   4069\u001b[0m       \u001b[38;5;124mf\u001b[39m\u001b[38;5;124m\"\u001b[39m\u001b[38;5;124mnon-None/Ellipsis indices for dim \u001b[39m\u001b[38;5;132;01m{\u001b[39;00marr_ndim\u001b[38;5;132;01m}\u001b[39;00m\u001b[38;5;124m.\u001b[39m\u001b[38;5;124m\"\u001b[39m)\n\u001b[1;32m   4070\u001b[0m ellipses \u001b[38;5;241m=\u001b[39m (i \u001b[38;5;28;01mfor\u001b[39;00m i, elt \u001b[38;5;129;01min\u001b[39;00m \u001b[38;5;28menumerate\u001b[39m(idx) \u001b[38;5;28;01mif\u001b[39;00m elt \u001b[38;5;129;01mis\u001b[39;00m \u001b[38;5;28mEllipsis\u001b[39m)\n\u001b[1;32m   4071\u001b[0m ellipsis_index \u001b[38;5;241m=\u001b[39m \u001b[38;5;28mnext\u001b[39m(ellipses, \u001b[38;5;28;01mNone\u001b[39;00m)\n",
      "\u001b[0;31mIndexError\u001b[0m: Too many indices for array: 2 non-None/Ellipsis indices for dim 1."
     ]
    }
   ],
   "source": [
    "from jax_md import simulate\n",
    "temperature = 1.0\n",
    "dt = 1e-3\n",
    "init, update = simulate.nvt_nose_hoover(energy_fn, shift_fn, dt, temperature)\n",
    "state = init(jax.random.PRNGKey(2666), x)"
   ]
  },
  {
   "cell_type": "code",
   "execution_count": 33,
   "id": "4794d00c",
   "metadata": {},
   "outputs": [
    {
     "data": {
      "text/plain": [
       "[Quantity(value=array([[ 0.00511871, -0.0106205 ,  0.00601428],\n",
       "        [ 0.54966796,  0.75543841, -0.59698119],\n",
       "        [ 0.7497641 , -0.5879439 ,  0.58528463],\n",
       "        [-0.58675256, -0.65213582, -0.67609162],\n",
       "        [-0.71779821,  0.4952618 ,  0.6817739 ]]), unit=angstrom)]"
      ]
     },
     "execution_count": 33,
     "metadata": {},
     "output_type": "execute_result"
    }
   ],
   "source": [
    "molecule.generate_conformers()\n",
    "molecule.conformers"
   ]
  },
  {
   "cell_type": "code",
   "execution_count": 17,
   "id": "dad8da2e",
   "metadata": {},
   "outputs": [],
   "source": [
    "model = esp.nn.Parametrization(\n",
    "    representation=esp.nn.GraphAttentionNetwork(128, 6),\n",
    "    janossy_pooling=esp.nn.JanossyPooling(128, 2),\n",
    ")"
   ]
  },
  {
   "cell_type": "code",
   "execution_count": 18,
   "id": "34280ad7",
   "metadata": {},
   "outputs": [],
   "source": [
    "from flax.training.checkpoints import restore_checkpoint\n",
    "state = restore_checkpoint(\"__checkpoint\", target=None)\n",
    "params = state[\"params\"]"
   ]
  },
  {
   "cell_type": "code",
   "execution_count": 19,
   "id": "5e9bd0c4",
   "metadata": {},
   "outputs": [],
   "source": [
    "g, x, u = next(iter(dataloader))\n",
    "ff_params = model.apply(params, g)\n",
    "u_hat = esp.mm.get_energy(ff_params, x)"
   ]
  },
  {
   "cell_type": "code",
   "execution_count": 22,
   "id": "1784252d",
   "metadata": {},
   "outputs": [],
   "source": [
    "jaxmd_params = esp.mm.to_jaxmd_mm_energy_fn_parameters(ff_params)"
   ]
  },
  {
   "cell_type": "code",
   "execution_count": 23,
   "id": "c8f5f466",
   "metadata": {},
   "outputs": [
    {
     "data": {
      "text/plain": [
       "MMEnergyFnParameters(harmonic_bond_parameters=HarmonicBondParameters(particles=DeviceArray([[0, 1],\n",
       "             [0, 2],\n",
       "             [0, 3],\n",
       "             [0, 4]], dtype=int32), epsilon=DeviceArray([0.01880366, 0.01880366, 0.01880366, 0.01880366], dtype=float32), length=DeviceArray([0.5550566, 0.5550566, 0.5550566, 0.5550566], dtype=float32)), harmonic_angle_parameters=HarmonicAngleParameters(particles=DeviceArray([[1, 0, 2],\n",
       "             [1, 0, 3],\n",
       "             [1, 0, 4],\n",
       "             [2, 0, 3],\n",
       "             [2, 0, 4],\n",
       "             [3, 0, 4]], dtype=int32), epsilon=DeviceArray([0.05592059, 0.05592059, 0.05592059, 0.05592059, 0.05592053,\n",
       "             0.05592053], dtype=float32), length=DeviceArray([1.079294 , 1.079294 , 1.079294 , 1.079294 , 1.0792929,\n",
       "             1.0792929], dtype=float32)), periodic_torsion_parameters=PeriodicTorsionParameters(particles=DeviceArray([], dtype=int32), amplitude=DeviceArray([], dtype=float32), periodicity=DeviceArray([], dtype=int32), phase=DeviceArray([], dtype=float32)), nonbonded_exception_parameters=None, nonbonded_parameters=None)"
      ]
     },
     "execution_count": 23,
     "metadata": {},
     "output_type": "execute_result"
    }
   ],
   "source": [
    "jaxmd_params"
   ]
  },
  {
   "cell_type": "code",
   "execution_count": 27,
   "id": "30b7b82c",
   "metadata": {},
   "outputs": [
    {
     "data": {
      "text/plain": [
       "MMEnergyFnParameters(harmonic_bond_parameters=HarmonicBondParameters(particles=DeviceArray([[0, 1],\n",
       "             [0, 2],\n",
       "             [0, 3],\n",
       "             [0, 4]], dtype=int32), epsilon=DeviceArray([309655.08432241, 309655.08432241, 309655.08432241,\n",
       "             309655.08432241], dtype=float64), length=DeviceArray([0.10938995, 0.10938995, 0.10938995, 0.10938995], dtype=float64)), harmonic_angle_parameters=HarmonicAngleParameters(particles=DeviceArray([[1, 0, 2],\n",
       "             [1, 0, 3],\n",
       "             [1, 0, 4],\n",
       "             [2, 0, 3],\n",
       "             [2, 0, 4],\n",
       "             [3, 0, 4]], dtype=int32), epsilon=DeviceArray([408.16169048, 408.16169048, 408.16169048, 408.16169048,\n",
       "             408.16169048, 408.16169048], dtype=float64), length=DeviceArray([2.01765472, 2.01765472, 2.01765472, 2.01765472, 2.01765472,\n",
       "             2.01765472], dtype=float64)), periodic_torsion_parameters=PeriodicTorsionParameters(particles=DeviceArray([], dtype=int32), amplitude=DeviceArray([], dtype=float64), periodicity=DeviceArray([], dtype=float64), phase=DeviceArray([], dtype=float64)), nonbonded_exception_parameters=NonbondedExceptionParameters(particles=DeviceArray([[0, 1],\n",
       "             [0, 2],\n",
       "             [1, 2],\n",
       "             [0, 3],\n",
       "             [1, 3],\n",
       "             [2, 3],\n",
       "             [0, 4],\n",
       "             [1, 4],\n",
       "             [2, 4],\n",
       "             [3, 4]], dtype=int32), Q_sq=DeviceArray([0., 0., 0., 0., 0., 0., 0., 0., 0., 0.], dtype=float64), sigma=DeviceArray([1., 1., 1., 1., 1., 1., 1., 1., 1., 1.], dtype=float64), epsilon=DeviceArray([0., 0., 0., 0., 0., 0., 0., 0., 0., 0.], dtype=float64)), nonbonded_parameters=NonbondedParameters(charge=DeviceArray([0., 0., 0., 0., 0.], dtype=float64), sigma=DeviceArray([0.33795318, 0.26445434, 0.26445434, 0.26445434, 0.26445434],            dtype=float64), epsilon=DeviceArray([0.45538912, 0.06602136, 0.06602136, 0.06602136, 0.06602136],            dtype=float64)))"
      ]
     },
     "execution_count": 27,
     "metadata": {},
     "output_type": "execute_result"
    }
   ],
   "source": [
    "def parameters_from_molecule(\n",
    "        molecule: Molecule,\n",
    "        base_forcefield: str = \"openff_unconstrained-2.0.0.offxml\",\n",
    "):\n",
    "    \"\"\"Get jax_md.mm.MMEnergyFnParameters from single molecule.\n",
    "\n",
    "    Parameters\n",
    "    ----------\n",
    "    molecule : Molecule\n",
    "        Input OpenFF molecule.\n",
    "    base_forcefield : str\n",
    "        Base force field for nonbonded terms and exceptions.\n",
    "\n",
    "    Returns\n",
    "    -------\n",
    "    jax_md.mm.MMEnergyFnParameters\n",
    "        Resulting parameters.\n",
    "    \"\"\"\n",
    "    from openff.toolkit.typing.engines.smirnoff import ForceField\n",
    "    molecule.assign_partial_charges(\"zeros\")\n",
    "    forcefield = ForceField(base_forcefield)\n",
    "    system = forcefield.create_openmm_system(\n",
    "        molecule.to_topology(),\n",
    "        charge_from_molecules=[molecule],\n",
    "    )\n",
    "\n",
    "    from jax_md.mm_utils import parameters_from_openmm_system\n",
    "    parameters = parameters_from_openmm_system(system)\n",
    "    return parameters\n",
    "\n",
    "parameters_from_molecule(Molecule.from_smiles(\"C\"))"
   ]
  },
  {
   "cell_type": "code",
   "execution_count": null,
   "id": "4a7839fe",
   "metadata": {},
   "outputs": [],
   "source": []
  }
 ],
 "metadata": {
  "kernelspec": {
   "display_name": "Python 3 (ipykernel)",
   "language": "python",
   "name": "python3"
  },
  "language_info": {
   "codemirror_mode": {
    "name": "ipython",
    "version": 3
   },
   "file_extension": ".py",
   "mimetype": "text/x-python",
   "name": "python",
   "nbconvert_exporter": "python",
   "pygments_lexer": "ipython3",
   "version": "3.10.4"
  }
 },
 "nbformat": 4,
 "nbformat_minor": 5
}
